{
 "cells": [
  {
   "cell_type": "markdown",
   "metadata": {},
   "source": [
    "# SupplyChain Sales Prediction Model\n",
    "\n",
    "\n",
    "\n",
    "\n",
    "\n",
    "\n",
    "\n",
    "\n",
    "\n",
    "\n",
    "\n",
    "\n",
    "\n"
   ]
  },
  {
   "cell_type": "raw",
   "metadata": {},
   "source": [
    "\n",
    "Dataset : This dataset is taken from Mendeley Data. It has around 100k rows and 53 columns.The data set is about the supply chain & logistic company which buys goods from different vendors and sells them across the globe.\n",
    "\n",
    "Aim : The aim of this project is to provide actionable insights on different KPIs in order to improve on supply chain activities.However, the end goal of this project is to predict the sales and late delivery which will help to manage inventory & transporation based on supply chain input variables."
   ]
  },
  {
   "cell_type": "code",
   "execution_count": 595,
   "metadata": {},
   "outputs": [],
   "source": [
    "import pandas as pd\n",
    "import numpy as np\n",
    "import warnings\n",
    "warnings.simplefilter(\"ignore\")"
   ]
  },
  {
   "cell_type": "code",
   "execution_count": 596,
   "metadata": {},
   "outputs": [],
   "source": [
    "df = pd.read_csv(\"SupplyChainDataset.csv\",encoding= 'unicode_escape')"
   ]
  },
  {
   "cell_type": "code",
   "execution_count": 597,
   "metadata": {},
   "outputs": [
    {
     "data": {
      "text/html": [
       "<div>\n",
       "<style scoped>\n",
       "    .dataframe tbody tr th:only-of-type {\n",
       "        vertical-align: middle;\n",
       "    }\n",
       "\n",
       "    .dataframe tbody tr th {\n",
       "        vertical-align: top;\n",
       "    }\n",
       "\n",
       "    .dataframe thead th {\n",
       "        text-align: right;\n",
       "    }\n",
       "</style>\n",
       "<table border=\"1\" class=\"dataframe\">\n",
       "  <thead>\n",
       "    <tr style=\"text-align: right;\">\n",
       "      <th></th>\n",
       "      <th>Type</th>\n",
       "      <th>Days for shipping (real)</th>\n",
       "      <th>Days for shipment (scheduled)</th>\n",
       "      <th>Benefit per order</th>\n",
       "      <th>Sales per customer</th>\n",
       "      <th>Delivery Status</th>\n",
       "      <th>Late_delivery_risk</th>\n",
       "      <th>Category Id</th>\n",
       "      <th>Category Name</th>\n",
       "      <th>Customer City</th>\n",
       "      <th>...</th>\n",
       "      <th>Order Zipcode</th>\n",
       "      <th>Product Card Id</th>\n",
       "      <th>Product Category Id</th>\n",
       "      <th>Product Description</th>\n",
       "      <th>Product Image</th>\n",
       "      <th>Product Name</th>\n",
       "      <th>Product Price</th>\n",
       "      <th>Product Status</th>\n",
       "      <th>shipping date (DateOrders)</th>\n",
       "      <th>Shipping Mode</th>\n",
       "    </tr>\n",
       "  </thead>\n",
       "  <tbody>\n",
       "    <tr>\n",
       "      <th>0</th>\n",
       "      <td>DEBIT</td>\n",
       "      <td>3</td>\n",
       "      <td>4</td>\n",
       "      <td>91.250000</td>\n",
       "      <td>314.640015</td>\n",
       "      <td>Advance shipping</td>\n",
       "      <td>0</td>\n",
       "      <td>73</td>\n",
       "      <td>Sporting Goods</td>\n",
       "      <td>Caguas</td>\n",
       "      <td>...</td>\n",
       "      <td>NaN</td>\n",
       "      <td>1360.0</td>\n",
       "      <td>73.0</td>\n",
       "      <td>NaN</td>\n",
       "      <td>http://images.acmesports.sports/Smart+watch</td>\n",
       "      <td>Smart watch</td>\n",
       "      <td>327.75</td>\n",
       "      <td>0.0</td>\n",
       "      <td>2/3/2018 22:56</td>\n",
       "      <td>Standard Class</td>\n",
       "    </tr>\n",
       "    <tr>\n",
       "      <th>1</th>\n",
       "      <td>TRANSFER</td>\n",
       "      <td>5</td>\n",
       "      <td>4</td>\n",
       "      <td>-249.089996</td>\n",
       "      <td>311.359985</td>\n",
       "      <td>Late delivery</td>\n",
       "      <td>1</td>\n",
       "      <td>73</td>\n",
       "      <td>Sporting Goods</td>\n",
       "      <td>Caguas</td>\n",
       "      <td>...</td>\n",
       "      <td>NaN</td>\n",
       "      <td>1360.0</td>\n",
       "      <td>73.0</td>\n",
       "      <td>NaN</td>\n",
       "      <td>http://images.acmesports.sports/Smart+watch</td>\n",
       "      <td>Smart watch</td>\n",
       "      <td>327.75</td>\n",
       "      <td>0.0</td>\n",
       "      <td>1/18/2018 12:27</td>\n",
       "      <td>Standard Class</td>\n",
       "    </tr>\n",
       "    <tr>\n",
       "      <th>2</th>\n",
       "      <td>CASH</td>\n",
       "      <td>4</td>\n",
       "      <td>4</td>\n",
       "      <td>-247.779999</td>\n",
       "      <td>309.720001</td>\n",
       "      <td>Shipping on time</td>\n",
       "      <td>0</td>\n",
       "      <td>73</td>\n",
       "      <td>Sporting Goods</td>\n",
       "      <td>San Jose</td>\n",
       "      <td>...</td>\n",
       "      <td>NaN</td>\n",
       "      <td>1360.0</td>\n",
       "      <td>73.0</td>\n",
       "      <td>NaN</td>\n",
       "      <td>http://images.acmesports.sports/Smart+watch</td>\n",
       "      <td>Smart watch</td>\n",
       "      <td>327.75</td>\n",
       "      <td>0.0</td>\n",
       "      <td>1/17/2018 12:06</td>\n",
       "      <td>Standard Class</td>\n",
       "    </tr>\n",
       "    <tr>\n",
       "      <th>3</th>\n",
       "      <td>DEBIT</td>\n",
       "      <td>3</td>\n",
       "      <td>4</td>\n",
       "      <td>22.860001</td>\n",
       "      <td>304.809998</td>\n",
       "      <td>Advance shipping</td>\n",
       "      <td>0</td>\n",
       "      <td>73</td>\n",
       "      <td>Sporting Goods</td>\n",
       "      <td>Los Angeles</td>\n",
       "      <td>...</td>\n",
       "      <td>NaN</td>\n",
       "      <td>1360.0</td>\n",
       "      <td>73.0</td>\n",
       "      <td>NaN</td>\n",
       "      <td>http://images.acmesports.sports/Smart+watch</td>\n",
       "      <td>Smart watch</td>\n",
       "      <td>327.75</td>\n",
       "      <td>0.0</td>\n",
       "      <td>1/16/2018 11:45</td>\n",
       "      <td>Standard Class</td>\n",
       "    </tr>\n",
       "    <tr>\n",
       "      <th>4</th>\n",
       "      <td>PAYMENT</td>\n",
       "      <td>2</td>\n",
       "      <td>4</td>\n",
       "      <td>134.210007</td>\n",
       "      <td>298.250000</td>\n",
       "      <td>Advance shipping</td>\n",
       "      <td>0</td>\n",
       "      <td>73</td>\n",
       "      <td>Sporting Goods</td>\n",
       "      <td>Caguas</td>\n",
       "      <td>...</td>\n",
       "      <td>NaN</td>\n",
       "      <td>1360.0</td>\n",
       "      <td>73.0</td>\n",
       "      <td>NaN</td>\n",
       "      <td>http://images.acmesports.sports/Smart+watch</td>\n",
       "      <td>Smart watch</td>\n",
       "      <td>327.75</td>\n",
       "      <td>0.0</td>\n",
       "      <td>1/15/2018 11:24</td>\n",
       "      <td>Standard Class</td>\n",
       "    </tr>\n",
       "  </tbody>\n",
       "</table>\n",
       "<p>5 rows × 53 columns</p>\n",
       "</div>"
      ],
      "text/plain": [
       "       Type  Days for shipping (real)  Days for shipment (scheduled)  \\\n",
       "0     DEBIT                         3                              4   \n",
       "1  TRANSFER                         5                              4   \n",
       "2      CASH                         4                              4   \n",
       "3     DEBIT                         3                              4   \n",
       "4   PAYMENT                         2                              4   \n",
       "\n",
       "   Benefit per order  Sales per customer   Delivery Status  \\\n",
       "0          91.250000          314.640015  Advance shipping   \n",
       "1        -249.089996          311.359985     Late delivery   \n",
       "2        -247.779999          309.720001  Shipping on time   \n",
       "3          22.860001          304.809998  Advance shipping   \n",
       "4         134.210007          298.250000  Advance shipping   \n",
       "\n",
       "   Late_delivery_risk  Category Id   Category Name Customer City  \\\n",
       "0                   0           73  Sporting Goods        Caguas   \n",
       "1                   1           73  Sporting Goods        Caguas   \n",
       "2                   0           73  Sporting Goods      San Jose   \n",
       "3                   0           73  Sporting Goods   Los Angeles   \n",
       "4                   0           73  Sporting Goods        Caguas   \n",
       "\n",
       "        ...       Order Zipcode Product Card Id Product Category Id  \\\n",
       "0       ...                 NaN          1360.0                73.0   \n",
       "1       ...                 NaN          1360.0                73.0   \n",
       "2       ...                 NaN          1360.0                73.0   \n",
       "3       ...                 NaN          1360.0                73.0   \n",
       "4       ...                 NaN          1360.0                73.0   \n",
       "\n",
       "   Product Description                                 Product Image  \\\n",
       "0                  NaN  http://images.acmesports.sports/Smart+watch    \n",
       "1                  NaN  http://images.acmesports.sports/Smart+watch    \n",
       "2                  NaN  http://images.acmesports.sports/Smart+watch    \n",
       "3                  NaN  http://images.acmesports.sports/Smart+watch    \n",
       "4                  NaN  http://images.acmesports.sports/Smart+watch    \n",
       "\n",
       "   Product Name Product Price Product Status shipping date (DateOrders)  \\\n",
       "0  Smart watch         327.75            0.0             2/3/2018 22:56   \n",
       "1  Smart watch         327.75            0.0            1/18/2018 12:27   \n",
       "2  Smart watch         327.75            0.0            1/17/2018 12:06   \n",
       "3  Smart watch         327.75            0.0            1/16/2018 11:45   \n",
       "4  Smart watch         327.75            0.0            1/15/2018 11:24   \n",
       "\n",
       "    Shipping Mode  \n",
       "0  Standard Class  \n",
       "1  Standard Class  \n",
       "2  Standard Class  \n",
       "3  Standard Class  \n",
       "4  Standard Class  \n",
       "\n",
       "[5 rows x 53 columns]"
      ]
     },
     "execution_count": 597,
     "metadata": {},
     "output_type": "execute_result"
    }
   ],
   "source": [
    "df.head(5)"
   ]
  },
  {
   "cell_type": "code",
   "execution_count": 598,
   "metadata": {},
   "outputs": [
    {
     "data": {
      "text/plain": [
       "(105122, 53)"
      ]
     },
     "execution_count": 598,
     "metadata": {},
     "output_type": "execute_result"
    }
   ],
   "source": [
    "df.shape"
   ]
  },
  {
   "cell_type": "code",
   "execution_count": 599,
   "metadata": {},
   "outputs": [
    {
     "data": {
      "text/plain": [
       "5571466"
      ]
     },
     "execution_count": 599,
     "metadata": {},
     "output_type": "execute_result"
    }
   ],
   "source": [
    "df.size"
   ]
  },
  {
   "cell_type": "markdown",
   "metadata": {},
   "source": [
    "# missing values"
   ]
  },
  {
   "cell_type": "code",
   "execution_count": 600,
   "metadata": {},
   "outputs": [
    {
     "data": {
      "text/plain": [
       "Type                                  0\n",
       "Days for shipping (real)              0\n",
       "Days for shipment (scheduled)         0\n",
       "Benefit per order                     0\n",
       "Sales per customer                    0\n",
       "Delivery Status                       0\n",
       "Late_delivery_risk                    0\n",
       "Category Id                           0\n",
       "Category Name                         0\n",
       "Customer City                         0\n",
       "Customer Country                      0\n",
       "Customer Email                        0\n",
       "Customer Fname                        0\n",
       "Customer Id                           0\n",
       "Customer Lname                        5\n",
       "Customer Password                     0\n",
       "Customer Segment                      0\n",
       "Customer State                        0\n",
       "Customer Street                       0\n",
       "Customer Zipcode                      3\n",
       "Department Id                         0\n",
       "Department Name                       0\n",
       "Latitude                              0\n",
       "Longitude                             0\n",
       "Market                                0\n",
       "Order City                            0\n",
       "Order Country                         0\n",
       "Order Customer Id                     0\n",
       "order date (DateOrders)               0\n",
       "Order Id                              0\n",
       "Order Item Cardprod Id                0\n",
       "Order Item Discount                   0\n",
       "Order Item Discount Rate              0\n",
       "Order Item Id                         0\n",
       "Order Item Product Price              0\n",
       "Order Item Profit Ratio               0\n",
       "Order Item Quantity                   0\n",
       "Sales                                 0\n",
       "Order Item Total                      0\n",
       "Order Profit Per Order                0\n",
       "Order Region                          0\n",
       "Order State                           0\n",
       "Order Status                          0\n",
       "Order Zipcode                     89684\n",
       "Product Card Id                       1\n",
       "Product Category Id                   1\n",
       "Product Description              105122\n",
       "Product Image                         1\n",
       "Product Name                          1\n",
       "Product Price                         1\n",
       "Product Status                        1\n",
       "shipping date (DateOrders)            1\n",
       "Shipping Mode                         1\n",
       "dtype: int64"
      ]
     },
     "execution_count": 600,
     "metadata": {},
     "output_type": "execute_result"
    }
   ],
   "source": [
    "df.isnull().sum()"
   ]
  },
  {
   "cell_type": "markdown",
   "metadata": {},
   "source": [
    "since the dataset is large, even if we drop rows having missing values it will not make significant difference but before that we need to drop columns 'Order Zipcode' and 'Product Description' which are not significant to our analysis"
   ]
  },
  {
   "cell_type": "code",
   "execution_count": 601,
   "metadata": {},
   "outputs": [],
   "source": [
    "df.drop(columns= ['Product Description','Order Zipcode'],inplace =True)"
   ]
  },
  {
   "cell_type": "code",
   "execution_count": 602,
   "metadata": {},
   "outputs": [],
   "source": [
    "df.dropna(inplace=True)"
   ]
  },
  {
   "cell_type": "code",
   "execution_count": 603,
   "metadata": {},
   "outputs": [
    {
     "data": {
      "text/plain": [
       "Type                             0\n",
       "Days for shipping (real)         0\n",
       "Days for shipment (scheduled)    0\n",
       "Benefit per order                0\n",
       "Sales per customer               0\n",
       "Delivery Status                  0\n",
       "Late_delivery_risk               0\n",
       "Category Id                      0\n",
       "Category Name                    0\n",
       "Customer City                    0\n",
       "Customer Country                 0\n",
       "Customer Email                   0\n",
       "Customer Fname                   0\n",
       "Customer Id                      0\n",
       "Customer Lname                   0\n",
       "Customer Password                0\n",
       "Customer Segment                 0\n",
       "Customer State                   0\n",
       "Customer Street                  0\n",
       "Customer Zipcode                 0\n",
       "Department Id                    0\n",
       "Department Name                  0\n",
       "Latitude                         0\n",
       "Longitude                        0\n",
       "Market                           0\n",
       "Order City                       0\n",
       "Order Country                    0\n",
       "Order Customer Id                0\n",
       "order date (DateOrders)          0\n",
       "Order Id                         0\n",
       "Order Item Cardprod Id           0\n",
       "Order Item Discount              0\n",
       "Order Item Discount Rate         0\n",
       "Order Item Id                    0\n",
       "Order Item Product Price         0\n",
       "Order Item Profit Ratio          0\n",
       "Order Item Quantity              0\n",
       "Sales                            0\n",
       "Order Item Total                 0\n",
       "Order Profit Per Order           0\n",
       "Order Region                     0\n",
       "Order State                      0\n",
       "Order Status                     0\n",
       "Product Card Id                  0\n",
       "Product Category Id              0\n",
       "Product Image                    0\n",
       "Product Name                     0\n",
       "Product Price                    0\n",
       "Product Status                   0\n",
       "shipping date (DateOrders)       0\n",
       "Shipping Mode                    0\n",
       "dtype: int64"
      ]
     },
     "execution_count": 603,
     "metadata": {},
     "output_type": "execute_result"
    }
   ],
   "source": [
    "# checking if any null values are present\n",
    "df.isnull().sum()"
   ]
  },
  {
   "cell_type": "code",
   "execution_count": 604,
   "metadata": {},
   "outputs": [
    {
     "data": {
      "text/plain": [
       "(105113, 51)"
      ]
     },
     "execution_count": 604,
     "metadata": {},
     "output_type": "execute_result"
    }
   ],
   "source": [
    "df.shape"
   ]
  },
  {
   "cell_type": "code",
   "execution_count": 605,
   "metadata": {},
   "outputs": [
    {
     "data": {
      "text/plain": [
       "Index(['Type', 'Days for shipping (real)', 'Days for shipment (scheduled)',\n",
       "       'Benefit per order', 'Sales per customer', 'Delivery Status',\n",
       "       'Late_delivery_risk', 'Category Id', 'Category Name', 'Customer City',\n",
       "       'Customer Country', 'Customer Email', 'Customer Fname', 'Customer Id',\n",
       "       'Customer Lname', 'Customer Password', 'Customer Segment',\n",
       "       'Customer State', 'Customer Street', 'Customer Zipcode',\n",
       "       'Department Id', 'Department Name', 'Latitude', 'Longitude', 'Market',\n",
       "       'Order City', 'Order Country', 'Order Customer Id',\n",
       "       'order date (DateOrders)', 'Order Id', 'Order Item Cardprod Id',\n",
       "       'Order Item Discount', 'Order Item Discount Rate', 'Order Item Id',\n",
       "       'Order Item Product Price', 'Order Item Profit Ratio',\n",
       "       'Order Item Quantity', 'Sales', 'Order Item Total',\n",
       "       'Order Profit Per Order', 'Order Region', 'Order State', 'Order Status',\n",
       "       'Product Card Id', 'Product Category Id', 'Product Image',\n",
       "       'Product Name', 'Product Price', 'Product Status',\n",
       "       'shipping date (DateOrders)', 'Shipping Mode'],\n",
       "      dtype='object')"
      ]
     },
     "execution_count": 605,
     "metadata": {},
     "output_type": "execute_result"
    }
   ],
   "source": [
    "df.columns"
   ]
  },
  {
   "cell_type": "code",
   "execution_count": 606,
   "metadata": {},
   "outputs": [],
   "source": [
    "# Removing unneccessary columns\n",
    "\n",
    "df.drop(columns = [ 'Customer Email', 'Customer Fname', 'Customer Lname', 'Customer Password', \n",
    "                   'Customer Street', 'Customer Zipcode','Latitude', 'Longitude', 'Product Image',\n",
    "                   'Product Status','shipping date (DateOrders)'],inplace=True)"
   ]
  },
  {
   "cell_type": "code",
   "execution_count": 607,
   "metadata": {},
   "outputs": [
    {
     "data": {
      "text/plain": [
       "(105113, 40)"
      ]
     },
     "execution_count": 607,
     "metadata": {},
     "output_type": "execute_result"
    }
   ],
   "source": [
    "df.shape"
   ]
  },
  {
   "cell_type": "code",
   "execution_count": 608,
   "metadata": {},
   "outputs": [
    {
     "data": {
      "text/html": [
       "<div>\n",
       "<style scoped>\n",
       "    .dataframe tbody tr th:only-of-type {\n",
       "        vertical-align: middle;\n",
       "    }\n",
       "\n",
       "    .dataframe tbody tr th {\n",
       "        vertical-align: top;\n",
       "    }\n",
       "\n",
       "    .dataframe thead th {\n",
       "        text-align: right;\n",
       "    }\n",
       "</style>\n",
       "<table border=\"1\" class=\"dataframe\">\n",
       "  <thead>\n",
       "    <tr style=\"text-align: right;\">\n",
       "      <th></th>\n",
       "      <th>Type</th>\n",
       "      <th>Days for shipping (real)</th>\n",
       "      <th>Days for shipment (scheduled)</th>\n",
       "      <th>Benefit per order</th>\n",
       "      <th>Sales per customer</th>\n",
       "      <th>Delivery Status</th>\n",
       "      <th>Late_delivery_risk</th>\n",
       "      <th>Category Id</th>\n",
       "      <th>Category Name</th>\n",
       "      <th>Customer City</th>\n",
       "      <th>...</th>\n",
       "      <th>Order Item Total</th>\n",
       "      <th>Order Profit Per Order</th>\n",
       "      <th>Order Region</th>\n",
       "      <th>Order State</th>\n",
       "      <th>Order Status</th>\n",
       "      <th>Product Card Id</th>\n",
       "      <th>Product Category Id</th>\n",
       "      <th>Product Name</th>\n",
       "      <th>Product Price</th>\n",
       "      <th>Shipping Mode</th>\n",
       "    </tr>\n",
       "  </thead>\n",
       "  <tbody>\n",
       "    <tr>\n",
       "      <th>0</th>\n",
       "      <td>DEBIT</td>\n",
       "      <td>3</td>\n",
       "      <td>4</td>\n",
       "      <td>91.250000</td>\n",
       "      <td>314.640015</td>\n",
       "      <td>Advance shipping</td>\n",
       "      <td>0</td>\n",
       "      <td>73</td>\n",
       "      <td>Sporting Goods</td>\n",
       "      <td>Caguas</td>\n",
       "      <td>...</td>\n",
       "      <td>314.640015</td>\n",
       "      <td>91.250000</td>\n",
       "      <td>Southeast Asia</td>\n",
       "      <td>Java Occidental</td>\n",
       "      <td>COMPLETE</td>\n",
       "      <td>1360.0</td>\n",
       "      <td>73.0</td>\n",
       "      <td>Smart watch</td>\n",
       "      <td>327.75</td>\n",
       "      <td>Standard Class</td>\n",
       "    </tr>\n",
       "    <tr>\n",
       "      <th>1</th>\n",
       "      <td>TRANSFER</td>\n",
       "      <td>5</td>\n",
       "      <td>4</td>\n",
       "      <td>-249.089996</td>\n",
       "      <td>311.359985</td>\n",
       "      <td>Late delivery</td>\n",
       "      <td>1</td>\n",
       "      <td>73</td>\n",
       "      <td>Sporting Goods</td>\n",
       "      <td>Caguas</td>\n",
       "      <td>...</td>\n",
       "      <td>311.359985</td>\n",
       "      <td>-249.089996</td>\n",
       "      <td>South Asia</td>\n",
       "      <td>Rajastán</td>\n",
       "      <td>PENDING</td>\n",
       "      <td>1360.0</td>\n",
       "      <td>73.0</td>\n",
       "      <td>Smart watch</td>\n",
       "      <td>327.75</td>\n",
       "      <td>Standard Class</td>\n",
       "    </tr>\n",
       "    <tr>\n",
       "      <th>2</th>\n",
       "      <td>CASH</td>\n",
       "      <td>4</td>\n",
       "      <td>4</td>\n",
       "      <td>-247.779999</td>\n",
       "      <td>309.720001</td>\n",
       "      <td>Shipping on time</td>\n",
       "      <td>0</td>\n",
       "      <td>73</td>\n",
       "      <td>Sporting Goods</td>\n",
       "      <td>San Jose</td>\n",
       "      <td>...</td>\n",
       "      <td>309.720001</td>\n",
       "      <td>-247.779999</td>\n",
       "      <td>South Asia</td>\n",
       "      <td>Rajastán</td>\n",
       "      <td>CLOSED</td>\n",
       "      <td>1360.0</td>\n",
       "      <td>73.0</td>\n",
       "      <td>Smart watch</td>\n",
       "      <td>327.75</td>\n",
       "      <td>Standard Class</td>\n",
       "    </tr>\n",
       "    <tr>\n",
       "      <th>3</th>\n",
       "      <td>DEBIT</td>\n",
       "      <td>3</td>\n",
       "      <td>4</td>\n",
       "      <td>22.860001</td>\n",
       "      <td>304.809998</td>\n",
       "      <td>Advance shipping</td>\n",
       "      <td>0</td>\n",
       "      <td>73</td>\n",
       "      <td>Sporting Goods</td>\n",
       "      <td>Los Angeles</td>\n",
       "      <td>...</td>\n",
       "      <td>304.809998</td>\n",
       "      <td>22.860001</td>\n",
       "      <td>Oceania</td>\n",
       "      <td>Queensland</td>\n",
       "      <td>COMPLETE</td>\n",
       "      <td>1360.0</td>\n",
       "      <td>73.0</td>\n",
       "      <td>Smart watch</td>\n",
       "      <td>327.75</td>\n",
       "      <td>Standard Class</td>\n",
       "    </tr>\n",
       "    <tr>\n",
       "      <th>4</th>\n",
       "      <td>PAYMENT</td>\n",
       "      <td>2</td>\n",
       "      <td>4</td>\n",
       "      <td>134.210007</td>\n",
       "      <td>298.250000</td>\n",
       "      <td>Advance shipping</td>\n",
       "      <td>0</td>\n",
       "      <td>73</td>\n",
       "      <td>Sporting Goods</td>\n",
       "      <td>Caguas</td>\n",
       "      <td>...</td>\n",
       "      <td>298.250000</td>\n",
       "      <td>134.210007</td>\n",
       "      <td>Oceania</td>\n",
       "      <td>Queensland</td>\n",
       "      <td>PENDING_PAYMENT</td>\n",
       "      <td>1360.0</td>\n",
       "      <td>73.0</td>\n",
       "      <td>Smart watch</td>\n",
       "      <td>327.75</td>\n",
       "      <td>Standard Class</td>\n",
       "    </tr>\n",
       "  </tbody>\n",
       "</table>\n",
       "<p>5 rows × 40 columns</p>\n",
       "</div>"
      ],
      "text/plain": [
       "       Type  Days for shipping (real)  Days for shipment (scheduled)  \\\n",
       "0     DEBIT                         3                              4   \n",
       "1  TRANSFER                         5                              4   \n",
       "2      CASH                         4                              4   \n",
       "3     DEBIT                         3                              4   \n",
       "4   PAYMENT                         2                              4   \n",
       "\n",
       "   Benefit per order  Sales per customer   Delivery Status  \\\n",
       "0          91.250000          314.640015  Advance shipping   \n",
       "1        -249.089996          311.359985     Late delivery   \n",
       "2        -247.779999          309.720001  Shipping on time   \n",
       "3          22.860001          304.809998  Advance shipping   \n",
       "4         134.210007          298.250000  Advance shipping   \n",
       "\n",
       "   Late_delivery_risk  Category Id   Category Name Customer City  \\\n",
       "0                   0           73  Sporting Goods        Caguas   \n",
       "1                   1           73  Sporting Goods        Caguas   \n",
       "2                   0           73  Sporting Goods      San Jose   \n",
       "3                   0           73  Sporting Goods   Los Angeles   \n",
       "4                   0           73  Sporting Goods        Caguas   \n",
       "\n",
       "        ...       Order Item Total  Order Profit Per Order    Order Region  \\\n",
       "0       ...             314.640015               91.250000  Southeast Asia   \n",
       "1       ...             311.359985             -249.089996      South Asia   \n",
       "2       ...             309.720001             -247.779999      South Asia   \n",
       "3       ...             304.809998               22.860001         Oceania   \n",
       "4       ...             298.250000              134.210007         Oceania   \n",
       "\n",
       "       Order State     Order Status Product Card Id Product Category Id  \\\n",
       "0  Java Occidental         COMPLETE          1360.0                73.0   \n",
       "1         Rajastán          PENDING          1360.0                73.0   \n",
       "2         Rajastán           CLOSED          1360.0                73.0   \n",
       "3       Queensland         COMPLETE          1360.0                73.0   \n",
       "4       Queensland  PENDING_PAYMENT          1360.0                73.0   \n",
       "\n",
       "   Product Name Product Price   Shipping Mode  \n",
       "0  Smart watch         327.75  Standard Class  \n",
       "1  Smart watch         327.75  Standard Class  \n",
       "2  Smart watch         327.75  Standard Class  \n",
       "3  Smart watch         327.75  Standard Class  \n",
       "4  Smart watch         327.75  Standard Class  \n",
       "\n",
       "[5 rows x 40 columns]"
      ]
     },
     "execution_count": 608,
     "metadata": {},
     "output_type": "execute_result"
    }
   ],
   "source": [
    "df.head()"
   ]
  },
  {
   "cell_type": "markdown",
   "metadata": {},
   "source": [
    "# Trend Analysis"
   ]
  },
  {
   "cell_type": "code",
   "execution_count": 609,
   "metadata": {},
   "outputs": [],
   "source": [
    "from datetime import datetime as dt"
   ]
  },
  {
   "cell_type": "code",
   "execution_count": 610,
   "metadata": {},
   "outputs": [],
   "source": [
    "df['month_year'] = pd.to_datetime(df['order date (DateOrders)']).dt.to_period('M')"
   ]
  },
  {
   "cell_type": "code",
   "execution_count": 611,
   "metadata": {},
   "outputs": [],
   "source": [
    "monthdata = df.groupby('month_year')"
   ]
  },
  {
   "cell_type": "code",
   "execution_count": 612,
   "metadata": {},
   "outputs": [
    {
     "data": {
      "text/html": [
       "<div>\n",
       "<style scoped>\n",
       "    .dataframe tbody tr th:only-of-type {\n",
       "        vertical-align: middle;\n",
       "    }\n",
       "\n",
       "    .dataframe tbody tr th {\n",
       "        vertical-align: top;\n",
       "    }\n",
       "\n",
       "    .dataframe thead th {\n",
       "        text-align: right;\n",
       "    }\n",
       "</style>\n",
       "<table border=\"1\" class=\"dataframe\">\n",
       "  <thead>\n",
       "    <tr style=\"text-align: right;\">\n",
       "      <th></th>\n",
       "      <th>Type</th>\n",
       "      <th>Days for shipping (real)</th>\n",
       "      <th>Days for shipment (scheduled)</th>\n",
       "      <th>Benefit per order</th>\n",
       "      <th>Sales per customer</th>\n",
       "      <th>Delivery Status</th>\n",
       "      <th>Late_delivery_risk</th>\n",
       "      <th>Category Id</th>\n",
       "      <th>Category Name</th>\n",
       "      <th>Customer City</th>\n",
       "      <th>...</th>\n",
       "      <th>Order Profit Per Order</th>\n",
       "      <th>Order Region</th>\n",
       "      <th>Order State</th>\n",
       "      <th>Order Status</th>\n",
       "      <th>Product Card Id</th>\n",
       "      <th>Product Category Id</th>\n",
       "      <th>Product Name</th>\n",
       "      <th>Product Price</th>\n",
       "      <th>Shipping Mode</th>\n",
       "      <th>month_year</th>\n",
       "    </tr>\n",
       "  </thead>\n",
       "  <tbody>\n",
       "    <tr>\n",
       "      <th>0</th>\n",
       "      <td>DEBIT</td>\n",
       "      <td>3</td>\n",
       "      <td>4</td>\n",
       "      <td>91.250000</td>\n",
       "      <td>314.640015</td>\n",
       "      <td>Advance shipping</td>\n",
       "      <td>0</td>\n",
       "      <td>73</td>\n",
       "      <td>Sporting Goods</td>\n",
       "      <td>Caguas</td>\n",
       "      <td>...</td>\n",
       "      <td>91.250000</td>\n",
       "      <td>Southeast Asia</td>\n",
       "      <td>Java Occidental</td>\n",
       "      <td>COMPLETE</td>\n",
       "      <td>1360.0</td>\n",
       "      <td>73.0</td>\n",
       "      <td>Smart watch</td>\n",
       "      <td>327.750000</td>\n",
       "      <td>Standard Class</td>\n",
       "      <td>2018-01</td>\n",
       "    </tr>\n",
       "    <tr>\n",
       "      <th>1</th>\n",
       "      <td>TRANSFER</td>\n",
       "      <td>5</td>\n",
       "      <td>4</td>\n",
       "      <td>-249.089996</td>\n",
       "      <td>311.359985</td>\n",
       "      <td>Late delivery</td>\n",
       "      <td>1</td>\n",
       "      <td>73</td>\n",
       "      <td>Sporting Goods</td>\n",
       "      <td>Caguas</td>\n",
       "      <td>...</td>\n",
       "      <td>-249.089996</td>\n",
       "      <td>South Asia</td>\n",
       "      <td>Rajastán</td>\n",
       "      <td>PENDING</td>\n",
       "      <td>1360.0</td>\n",
       "      <td>73.0</td>\n",
       "      <td>Smart watch</td>\n",
       "      <td>327.750000</td>\n",
       "      <td>Standard Class</td>\n",
       "      <td>2018-01</td>\n",
       "    </tr>\n",
       "    <tr>\n",
       "      <th>2</th>\n",
       "      <td>CASH</td>\n",
       "      <td>4</td>\n",
       "      <td>4</td>\n",
       "      <td>-247.779999</td>\n",
       "      <td>309.720001</td>\n",
       "      <td>Shipping on time</td>\n",
       "      <td>0</td>\n",
       "      <td>73</td>\n",
       "      <td>Sporting Goods</td>\n",
       "      <td>San Jose</td>\n",
       "      <td>...</td>\n",
       "      <td>-247.779999</td>\n",
       "      <td>South Asia</td>\n",
       "      <td>Rajastán</td>\n",
       "      <td>CLOSED</td>\n",
       "      <td>1360.0</td>\n",
       "      <td>73.0</td>\n",
       "      <td>Smart watch</td>\n",
       "      <td>327.750000</td>\n",
       "      <td>Standard Class</td>\n",
       "      <td>2018-01</td>\n",
       "    </tr>\n",
       "    <tr>\n",
       "      <th>3</th>\n",
       "      <td>DEBIT</td>\n",
       "      <td>3</td>\n",
       "      <td>4</td>\n",
       "      <td>22.860001</td>\n",
       "      <td>304.809998</td>\n",
       "      <td>Advance shipping</td>\n",
       "      <td>0</td>\n",
       "      <td>73</td>\n",
       "      <td>Sporting Goods</td>\n",
       "      <td>Los Angeles</td>\n",
       "      <td>...</td>\n",
       "      <td>22.860001</td>\n",
       "      <td>Oceania</td>\n",
       "      <td>Queensland</td>\n",
       "      <td>COMPLETE</td>\n",
       "      <td>1360.0</td>\n",
       "      <td>73.0</td>\n",
       "      <td>Smart watch</td>\n",
       "      <td>327.750000</td>\n",
       "      <td>Standard Class</td>\n",
       "      <td>2018-01</td>\n",
       "    </tr>\n",
       "    <tr>\n",
       "      <th>4</th>\n",
       "      <td>PAYMENT</td>\n",
       "      <td>2</td>\n",
       "      <td>4</td>\n",
       "      <td>134.210007</td>\n",
       "      <td>298.250000</td>\n",
       "      <td>Advance shipping</td>\n",
       "      <td>0</td>\n",
       "      <td>73</td>\n",
       "      <td>Sporting Goods</td>\n",
       "      <td>Caguas</td>\n",
       "      <td>...</td>\n",
       "      <td>134.210007</td>\n",
       "      <td>Oceania</td>\n",
       "      <td>Queensland</td>\n",
       "      <td>PENDING_PAYMENT</td>\n",
       "      <td>1360.0</td>\n",
       "      <td>73.0</td>\n",
       "      <td>Smart watch</td>\n",
       "      <td>327.750000</td>\n",
       "      <td>Standard Class</td>\n",
       "      <td>2018-01</td>\n",
       "    </tr>\n",
       "    <tr>\n",
       "      <th>48</th>\n",
       "      <td>PAYMENT</td>\n",
       "      <td>5</td>\n",
       "      <td>2</td>\n",
       "      <td>-30.750000</td>\n",
       "      <td>115.180000</td>\n",
       "      <td>Late delivery</td>\n",
       "      <td>1</td>\n",
       "      <td>17</td>\n",
       "      <td>Cleats</td>\n",
       "      <td>Bayamon</td>\n",
       "      <td>...</td>\n",
       "      <td>-30.750000</td>\n",
       "      <td>South Asia</td>\n",
       "      <td>Uttar Pradesh</td>\n",
       "      <td>PENDING_PAYMENT</td>\n",
       "      <td>365.0</td>\n",
       "      <td>17.0</td>\n",
       "      <td>Perfect Fitness Perfect Rip Deck</td>\n",
       "      <td>59.990002</td>\n",
       "      <td>Second Class</td>\n",
       "      <td>2016-02</td>\n",
       "    </tr>\n",
       "    <tr>\n",
       "      <th>49</th>\n",
       "      <td>PAYMENT</td>\n",
       "      <td>2</td>\n",
       "      <td>2</td>\n",
       "      <td>-122.730003</td>\n",
       "      <td>79.180000</td>\n",
       "      <td>Shipping on time</td>\n",
       "      <td>0</td>\n",
       "      <td>29</td>\n",
       "      <td>Shop By Sport</td>\n",
       "      <td>Caguas</td>\n",
       "      <td>...</td>\n",
       "      <td>-122.730003</td>\n",
       "      <td>West Asia</td>\n",
       "      <td>Bursa</td>\n",
       "      <td>PENDING_PAYMENT</td>\n",
       "      <td>627.0</td>\n",
       "      <td>29.0</td>\n",
       "      <td>Under Armour Girls' Toddler Spine Surge Runni</td>\n",
       "      <td>39.990002</td>\n",
       "      <td>Second Class</td>\n",
       "      <td>2016-10</td>\n",
       "    </tr>\n",
       "    <tr>\n",
       "      <th>50</th>\n",
       "      <td>PAYMENT</td>\n",
       "      <td>6</td>\n",
       "      <td>2</td>\n",
       "      <td>33.599998</td>\n",
       "      <td>96.000000</td>\n",
       "      <td>Late delivery</td>\n",
       "      <td>1</td>\n",
       "      <td>24</td>\n",
       "      <td>Women's Apparel</td>\n",
       "      <td>Caguas</td>\n",
       "      <td>...</td>\n",
       "      <td>33.599998</td>\n",
       "      <td>Oceania</td>\n",
       "      <td>Australia del Sur</td>\n",
       "      <td>PENDING_PAYMENT</td>\n",
       "      <td>502.0</td>\n",
       "      <td>24.0</td>\n",
       "      <td>Nike Men's Dri-FIT Victory Golf Polo</td>\n",
       "      <td>50.000000</td>\n",
       "      <td>Second Class</td>\n",
       "      <td>2016-03</td>\n",
       "    </tr>\n",
       "    <tr>\n",
       "      <th>51</th>\n",
       "      <td>PAYMENT</td>\n",
       "      <td>2</td>\n",
       "      <td>2</td>\n",
       "      <td>24.690001</td>\n",
       "      <td>75.980003</td>\n",
       "      <td>Shipping on time</td>\n",
       "      <td>0</td>\n",
       "      <td>29</td>\n",
       "      <td>Shop By Sport</td>\n",
       "      <td>Caguas</td>\n",
       "      <td>...</td>\n",
       "      <td>24.690001</td>\n",
       "      <td>West Asia</td>\n",
       "      <td>Estambul</td>\n",
       "      <td>PENDING_PAYMENT</td>\n",
       "      <td>627.0</td>\n",
       "      <td>29.0</td>\n",
       "      <td>Under Armour Girls' Toddler Spine Surge Runni</td>\n",
       "      <td>39.990002</td>\n",
       "      <td>Second Class</td>\n",
       "      <td>2016-10</td>\n",
       "    </tr>\n",
       "    <tr>\n",
       "      <th>52</th>\n",
       "      <td>PAYMENT</td>\n",
       "      <td>3</td>\n",
       "      <td>2</td>\n",
       "      <td>9.100000</td>\n",
       "      <td>91.000000</td>\n",
       "      <td>Late delivery</td>\n",
       "      <td>1</td>\n",
       "      <td>24</td>\n",
       "      <td>Women's Apparel</td>\n",
       "      <td>Caguas</td>\n",
       "      <td>...</td>\n",
       "      <td>9.100000</td>\n",
       "      <td>Eastern Asia</td>\n",
       "      <td>Ulán Bator</td>\n",
       "      <td>PENDING_PAYMENT</td>\n",
       "      <td>502.0</td>\n",
       "      <td>24.0</td>\n",
       "      <td>Nike Men's Dri-FIT Victory Golf Polo</td>\n",
       "      <td>50.000000</td>\n",
       "      <td>Second Class</td>\n",
       "      <td>2016-11</td>\n",
       "    </tr>\n",
       "    <tr>\n",
       "      <th>53</th>\n",
       "      <td>PAYMENT</td>\n",
       "      <td>5</td>\n",
       "      <td>2</td>\n",
       "      <td>-21.750000</td>\n",
       "      <td>87.000000</td>\n",
       "      <td>Late delivery</td>\n",
       "      <td>1</td>\n",
       "      <td>24</td>\n",
       "      <td>Women's Apparel</td>\n",
       "      <td>Caguas</td>\n",
       "      <td>...</td>\n",
       "      <td>-21.750000</td>\n",
       "      <td>West Asia</td>\n",
       "      <td>Estambul</td>\n",
       "      <td>PENDING_PAYMENT</td>\n",
       "      <td>502.0</td>\n",
       "      <td>24.0</td>\n",
       "      <td>Nike Men's Dri-FIT Victory Golf Polo</td>\n",
       "      <td>50.000000</td>\n",
       "      <td>Second Class</td>\n",
       "      <td>2016-12</td>\n",
       "    </tr>\n",
       "    <tr>\n",
       "      <th>54</th>\n",
       "      <td>PAYMENT</td>\n",
       "      <td>6</td>\n",
       "      <td>2</td>\n",
       "      <td>6.150000</td>\n",
       "      <td>82.000000</td>\n",
       "      <td>Late delivery</td>\n",
       "      <td>1</td>\n",
       "      <td>24</td>\n",
       "      <td>Women's Apparel</td>\n",
       "      <td>Caguas</td>\n",
       "      <td>...</td>\n",
       "      <td>6.150000</td>\n",
       "      <td>South Asia</td>\n",
       "      <td>Rajastán</td>\n",
       "      <td>PENDING_PAYMENT</td>\n",
       "      <td>502.0</td>\n",
       "      <td>24.0</td>\n",
       "      <td>Nike Men's Dri-FIT Victory Golf Polo</td>\n",
       "      <td>50.000000</td>\n",
       "      <td>Second Class</td>\n",
       "      <td>2015-10</td>\n",
       "    </tr>\n",
       "    <tr>\n",
       "      <th>55</th>\n",
       "      <td>PAYMENT</td>\n",
       "      <td>2</td>\n",
       "      <td>2</td>\n",
       "      <td>22.410000</td>\n",
       "      <td>74.680000</td>\n",
       "      <td>Shipping on time</td>\n",
       "      <td>0</td>\n",
       "      <td>13</td>\n",
       "      <td>Electronics</td>\n",
       "      <td>Caguas</td>\n",
       "      <td>...</td>\n",
       "      <td>22.410000</td>\n",
       "      <td>West of USA</td>\n",
       "      <td>Washington</td>\n",
       "      <td>PENDING_PAYMENT</td>\n",
       "      <td>278.0</td>\n",
       "      <td>13.0</td>\n",
       "      <td>Under Armour Men's Compression EV SL Slide</td>\n",
       "      <td>44.990002</td>\n",
       "      <td>Second Class</td>\n",
       "      <td>2016-06</td>\n",
       "    </tr>\n",
       "    <tr>\n",
       "      <th>56</th>\n",
       "      <td>PAYMENT</td>\n",
       "      <td>5</td>\n",
       "      <td>2</td>\n",
       "      <td>25.240000</td>\n",
       "      <td>90.150002</td>\n",
       "      <td>Late delivery</td>\n",
       "      <td>1</td>\n",
       "      <td>12</td>\n",
       "      <td>Boxing &amp; MMA</td>\n",
       "      <td>Caguas</td>\n",
       "      <td>...</td>\n",
       "      <td>25.240000</td>\n",
       "      <td>West of USA</td>\n",
       "      <td>California</td>\n",
       "      <td>PENDING_PAYMENT</td>\n",
       "      <td>249.0</td>\n",
       "      <td>12.0</td>\n",
       "      <td>Under Armour Women's Micro G Skulpt Running S</td>\n",
       "      <td>54.970001</td>\n",
       "      <td>Second Class</td>\n",
       "      <td>2016-08</td>\n",
       "    </tr>\n",
       "    <tr>\n",
       "      <th>57</th>\n",
       "      <td>PAYMENT</td>\n",
       "      <td>6</td>\n",
       "      <td>2</td>\n",
       "      <td>30.570000</td>\n",
       "      <td>117.580002</td>\n",
       "      <td>Late delivery</td>\n",
       "      <td>1</td>\n",
       "      <td>17</td>\n",
       "      <td>Cleats</td>\n",
       "      <td>Caguas</td>\n",
       "      <td>...</td>\n",
       "      <td>30.570000</td>\n",
       "      <td>West of USA</td>\n",
       "      <td>California</td>\n",
       "      <td>PENDING_PAYMENT</td>\n",
       "      <td>365.0</td>\n",
       "      <td>17.0</td>\n",
       "      <td>Perfect Fitness Perfect Rip Deck</td>\n",
       "      <td>59.990002</td>\n",
       "      <td>Second Class</td>\n",
       "      <td>2016-04</td>\n",
       "    </tr>\n",
       "    <tr>\n",
       "      <th>58</th>\n",
       "      <td>PAYMENT</td>\n",
       "      <td>4</td>\n",
       "      <td>2</td>\n",
       "      <td>46.070000</td>\n",
       "      <td>95.980003</td>\n",
       "      <td>Late delivery</td>\n",
       "      <td>1</td>\n",
       "      <td>17</td>\n",
       "      <td>Cleats</td>\n",
       "      <td>Caguas</td>\n",
       "      <td>...</td>\n",
       "      <td>46.070000</td>\n",
       "      <td>US Center</td>\n",
       "      <td>Kansas</td>\n",
       "      <td>PENDING_PAYMENT</td>\n",
       "      <td>365.0</td>\n",
       "      <td>17.0</td>\n",
       "      <td>Perfect Fitness Perfect Rip Deck</td>\n",
       "      <td>59.990002</td>\n",
       "      <td>Second Class</td>\n",
       "      <td>2016-05</td>\n",
       "    </tr>\n",
       "    <tr>\n",
       "      <th>59</th>\n",
       "      <td>PAYMENT</td>\n",
       "      <td>2</td>\n",
       "      <td>2</td>\n",
       "      <td>-184.779999</td>\n",
       "      <td>263.970001</td>\n",
       "      <td>Shipping on time</td>\n",
       "      <td>0</td>\n",
       "      <td>9</td>\n",
       "      <td>Cardio Equipment</td>\n",
       "      <td>Caguas</td>\n",
       "      <td>...</td>\n",
       "      <td>-184.779999</td>\n",
       "      <td>West Africa</td>\n",
       "      <td>Cross River</td>\n",
       "      <td>PENDING_PAYMENT</td>\n",
       "      <td>191.0</td>\n",
       "      <td>9.0</td>\n",
       "      <td>Nike Men's Free 5.0+ Running Shoe</td>\n",
       "      <td>99.989998</td>\n",
       "      <td>Second Class</td>\n",
       "      <td>2016-10</td>\n",
       "    </tr>\n",
       "    <tr>\n",
       "      <th>60</th>\n",
       "      <td>PAYMENT</td>\n",
       "      <td>5</td>\n",
       "      <td>2</td>\n",
       "      <td>38.750000</td>\n",
       "      <td>113.970001</td>\n",
       "      <td>Late delivery</td>\n",
       "      <td>1</td>\n",
       "      <td>29</td>\n",
       "      <td>Shop By Sport</td>\n",
       "      <td>Caguas</td>\n",
       "      <td>...</td>\n",
       "      <td>38.750000</td>\n",
       "      <td>Central Africa</td>\n",
       "      <td>Kinshasa</td>\n",
       "      <td>PENDING_PAYMENT</td>\n",
       "      <td>627.0</td>\n",
       "      <td>29.0</td>\n",
       "      <td>Under Armour Girls' Toddler Spine Surge Runni</td>\n",
       "      <td>39.990002</td>\n",
       "      <td>Second Class</td>\n",
       "      <td>2016-11</td>\n",
       "    </tr>\n",
       "    <tr>\n",
       "      <th>61</th>\n",
       "      <td>PAYMENT</td>\n",
       "      <td>5</td>\n",
       "      <td>2</td>\n",
       "      <td>-3.650000</td>\n",
       "      <td>63.990002</td>\n",
       "      <td>Late delivery</td>\n",
       "      <td>1</td>\n",
       "      <td>41</td>\n",
       "      <td>Trade-In</td>\n",
       "      <td>Caguas</td>\n",
       "      <td>...</td>\n",
       "      <td>-3.650000</td>\n",
       "      <td>West Africa</td>\n",
       "      <td>Dakar</td>\n",
       "      <td>PENDING_PAYMENT</td>\n",
       "      <td>917.0</td>\n",
       "      <td>41.0</td>\n",
       "      <td>Glove It Women's Mod Oval 3-Zip Carry All Gol</td>\n",
       "      <td>21.990000</td>\n",
       "      <td>Second Class</td>\n",
       "      <td>2016-11</td>\n",
       "    </tr>\n",
       "    <tr>\n",
       "      <th>62</th>\n",
       "      <td>PAYMENT</td>\n",
       "      <td>5</td>\n",
       "      <td>2</td>\n",
       "      <td>38.230000</td>\n",
       "      <td>79.660004</td>\n",
       "      <td>Late delivery</td>\n",
       "      <td>1</td>\n",
       "      <td>37</td>\n",
       "      <td>Electronics</td>\n",
       "      <td>Caguas</td>\n",
       "      <td>...</td>\n",
       "      <td>38.230000</td>\n",
       "      <td>North Africa</td>\n",
       "      <td>Gran Casablanca</td>\n",
       "      <td>PENDING_PAYMENT</td>\n",
       "      <td>828.0</td>\n",
       "      <td>37.0</td>\n",
       "      <td>Bridgestone e6 Straight Distance NFL San Dieg</td>\n",
       "      <td>31.990000</td>\n",
       "      <td>Second Class</td>\n",
       "      <td>2016-12</td>\n",
       "    </tr>\n",
       "    <tr>\n",
       "      <th>63</th>\n",
       "      <td>PAYMENT</td>\n",
       "      <td>3</td>\n",
       "      <td>2</td>\n",
       "      <td>129.350006</td>\n",
       "      <td>293.970001</td>\n",
       "      <td>Late delivery</td>\n",
       "      <td>1</td>\n",
       "      <td>9</td>\n",
       "      <td>Cardio Equipment</td>\n",
       "      <td>Caguas</td>\n",
       "      <td>...</td>\n",
       "      <td>129.350006</td>\n",
       "      <td>Western Europe</td>\n",
       "      <td>Renania del Norte-Westfalia</td>\n",
       "      <td>PENDING_PAYMENT</td>\n",
       "      <td>191.0</td>\n",
       "      <td>9.0</td>\n",
       "      <td>Nike Men's Free 5.0+ Running Shoe</td>\n",
       "      <td>99.989998</td>\n",
       "      <td>Second Class</td>\n",
       "      <td>2015-07</td>\n",
       "    </tr>\n",
       "    <tr>\n",
       "      <th>64</th>\n",
       "      <td>PAYMENT</td>\n",
       "      <td>2</td>\n",
       "      <td>2</td>\n",
       "      <td>132.289993</td>\n",
       "      <td>269.970001</td>\n",
       "      <td>Shipping on time</td>\n",
       "      <td>0</td>\n",
       "      <td>9</td>\n",
       "      <td>Cardio Equipment</td>\n",
       "      <td>Caguas</td>\n",
       "      <td>...</td>\n",
       "      <td>132.289993</td>\n",
       "      <td>Western Europe</td>\n",
       "      <td>Isla de Francia</td>\n",
       "      <td>PENDING_PAYMENT</td>\n",
       "      <td>191.0</td>\n",
       "      <td>9.0</td>\n",
       "      <td>Nike Men's Free 5.0+ Running Shoe</td>\n",
       "      <td>99.989998</td>\n",
       "      <td>Second Class</td>\n",
       "      <td>2017-07</td>\n",
       "    </tr>\n",
       "    <tr>\n",
       "      <th>65</th>\n",
       "      <td>PAYMENT</td>\n",
       "      <td>6</td>\n",
       "      <td>2</td>\n",
       "      <td>76.040001</td>\n",
       "      <td>224.979996</td>\n",
       "      <td>Late delivery</td>\n",
       "      <td>1</td>\n",
       "      <td>9</td>\n",
       "      <td>Cardio Equipment</td>\n",
       "      <td>Caguas</td>\n",
       "      <td>...</td>\n",
       "      <td>76.040001</td>\n",
       "      <td>Western Europe</td>\n",
       "      <td>Países del Loira</td>\n",
       "      <td>PENDING_PAYMENT</td>\n",
       "      <td>191.0</td>\n",
       "      <td>9.0</td>\n",
       "      <td>Nike Men's Free 5.0+ Running Shoe</td>\n",
       "      <td>99.989998</td>\n",
       "      <td>Second Class</td>\n",
       "      <td>2017-08</td>\n",
       "    </tr>\n",
       "    <tr>\n",
       "      <th>66</th>\n",
       "      <td>PAYMENT</td>\n",
       "      <td>4</td>\n",
       "      <td>2</td>\n",
       "      <td>81.129997</td>\n",
       "      <td>176.369995</td>\n",
       "      <td>Late delivery</td>\n",
       "      <td>1</td>\n",
       "      <td>17</td>\n",
       "      <td>Cleats</td>\n",
       "      <td>Caguas</td>\n",
       "      <td>...</td>\n",
       "      <td>81.129997</td>\n",
       "      <td>Western Europe</td>\n",
       "      <td>Groningen</td>\n",
       "      <td>PENDING_PAYMENT</td>\n",
       "      <td>365.0</td>\n",
       "      <td>17.0</td>\n",
       "      <td>Perfect Fitness Perfect Rip Deck</td>\n",
       "      <td>59.990002</td>\n",
       "      <td>Second Class</td>\n",
       "      <td>2015-09</td>\n",
       "    </tr>\n",
       "    <tr>\n",
       "      <th>67</th>\n",
       "      <td>PAYMENT</td>\n",
       "      <td>2</td>\n",
       "      <td>2</td>\n",
       "      <td>43.520000</td>\n",
       "      <td>167.369995</td>\n",
       "      <td>Shipping on time</td>\n",
       "      <td>0</td>\n",
       "      <td>17</td>\n",
       "      <td>Cleats</td>\n",
       "      <td>Caguas</td>\n",
       "      <td>...</td>\n",
       "      <td>43.520000</td>\n",
       "      <td>Northern Europe</td>\n",
       "      <td>Inglaterra</td>\n",
       "      <td>PENDING_PAYMENT</td>\n",
       "      <td>365.0</td>\n",
       "      <td>17.0</td>\n",
       "      <td>Perfect Fitness Perfect Rip Deck</td>\n",
       "      <td>59.990002</td>\n",
       "      <td>Second Class</td>\n",
       "      <td>2017-07</td>\n",
       "    </tr>\n",
       "    <tr>\n",
       "      <th>68</th>\n",
       "      <td>PAYMENT</td>\n",
       "      <td>3</td>\n",
       "      <td>2</td>\n",
       "      <td>68.779999</td>\n",
       "      <td>163.770004</td>\n",
       "      <td>Late delivery</td>\n",
       "      <td>1</td>\n",
       "      <td>17</td>\n",
       "      <td>Cleats</td>\n",
       "      <td>Caguas</td>\n",
       "      <td>...</td>\n",
       "      <td>68.779999</td>\n",
       "      <td>Northern Europe</td>\n",
       "      <td>Inglaterra</td>\n",
       "      <td>PENDING_PAYMENT</td>\n",
       "      <td>365.0</td>\n",
       "      <td>17.0</td>\n",
       "      <td>Perfect Fitness Perfect Rip Deck</td>\n",
       "      <td>59.990002</td>\n",
       "      <td>Second Class</td>\n",
       "      <td>2015-09</td>\n",
       "    </tr>\n",
       "    <tr>\n",
       "      <th>69</th>\n",
       "      <td>PAYMENT</td>\n",
       "      <td>3</td>\n",
       "      <td>2</td>\n",
       "      <td>40.490002</td>\n",
       "      <td>161.970001</td>\n",
       "      <td>Late delivery</td>\n",
       "      <td>1</td>\n",
       "      <td>17</td>\n",
       "      <td>Cleats</td>\n",
       "      <td>Caguas</td>\n",
       "      <td>...</td>\n",
       "      <td>40.490002</td>\n",
       "      <td>Western Europe</td>\n",
       "      <td>Alsacia-Champaña-Ardenas-Lorena</td>\n",
       "      <td>PENDING_PAYMENT</td>\n",
       "      <td>365.0</td>\n",
       "      <td>17.0</td>\n",
       "      <td>Perfect Fitness Perfect Rip Deck</td>\n",
       "      <td>59.990002</td>\n",
       "      <td>Second Class</td>\n",
       "      <td>2017-08</td>\n",
       "    </tr>\n",
       "    <tr>\n",
       "      <th>70</th>\n",
       "      <td>PAYMENT</td>\n",
       "      <td>2</td>\n",
       "      <td>2</td>\n",
       "      <td>20.930000</td>\n",
       "      <td>139.500000</td>\n",
       "      <td>Shipping on time</td>\n",
       "      <td>0</td>\n",
       "      <td>24</td>\n",
       "      <td>Women's Apparel</td>\n",
       "      <td>Caguas</td>\n",
       "      <td>...</td>\n",
       "      <td>20.930000</td>\n",
       "      <td>Western Europe</td>\n",
       "      <td>Isla de Francia</td>\n",
       "      <td>PENDING_PAYMENT</td>\n",
       "      <td>502.0</td>\n",
       "      <td>24.0</td>\n",
       "      <td>Nike Men's Dri-FIT Victory Golf Polo</td>\n",
       "      <td>50.000000</td>\n",
       "      <td>Second Class</td>\n",
       "      <td>2017-07</td>\n",
       "    </tr>\n",
       "    <tr>\n",
       "      <th>71</th>\n",
       "      <td>PAYMENT</td>\n",
       "      <td>4</td>\n",
       "      <td>2</td>\n",
       "      <td>12.200000</td>\n",
       "      <td>107.970001</td>\n",
       "      <td>Late delivery</td>\n",
       "      <td>1</td>\n",
       "      <td>29</td>\n",
       "      <td>Shop By Sport</td>\n",
       "      <td>Caguas</td>\n",
       "      <td>...</td>\n",
       "      <td>12.200000</td>\n",
       "      <td>Northern Europe</td>\n",
       "      <td>Inglaterra</td>\n",
       "      <td>PENDING_PAYMENT</td>\n",
       "      <td>627.0</td>\n",
       "      <td>29.0</td>\n",
       "      <td>Under Armour Girls' Toddler Spine Surge Runni</td>\n",
       "      <td>39.990002</td>\n",
       "      <td>Second Class</td>\n",
       "      <td>2017-08</td>\n",
       "    </tr>\n",
       "    <tr>\n",
       "      <th>72</th>\n",
       "      <td>PAYMENT</td>\n",
       "      <td>3</td>\n",
       "      <td>2</td>\n",
       "      <td>12.710000</td>\n",
       "      <td>112.500000</td>\n",
       "      <td>Late delivery</td>\n",
       "      <td>1</td>\n",
       "      <td>24</td>\n",
       "      <td>Women's Apparel</td>\n",
       "      <td>Caguas</td>\n",
       "      <td>...</td>\n",
       "      <td>12.710000</td>\n",
       "      <td>Western Europe</td>\n",
       "      <td>Renania del Norte-Westfalia</td>\n",
       "      <td>PENDING_PAYMENT</td>\n",
       "      <td>502.0</td>\n",
       "      <td>24.0</td>\n",
       "      <td>Nike Men's Dri-FIT Victory Golf Polo</td>\n",
       "      <td>50.000000</td>\n",
       "      <td>Second Class</td>\n",
       "      <td>2017-09</td>\n",
       "    </tr>\n",
       "    <tr>\n",
       "      <th>...</th>\n",
       "      <td>...</td>\n",
       "      <td>...</td>\n",
       "      <td>...</td>\n",
       "      <td>...</td>\n",
       "      <td>...</td>\n",
       "      <td>...</td>\n",
       "      <td>...</td>\n",
       "      <td>...</td>\n",
       "      <td>...</td>\n",
       "      <td>...</td>\n",
       "      <td>...</td>\n",
       "      <td>...</td>\n",
       "      <td>...</td>\n",
       "      <td>...</td>\n",
       "      <td>...</td>\n",
       "      <td>...</td>\n",
       "      <td>...</td>\n",
       "      <td>...</td>\n",
       "      <td>...</td>\n",
       "      <td>...</td>\n",
       "      <td>...</td>\n",
       "    </tr>\n",
       "    <tr>\n",
       "      <th>309</th>\n",
       "      <td>DEBIT</td>\n",
       "      <td>6</td>\n",
       "      <td>4</td>\n",
       "      <td>9.600000</td>\n",
       "      <td>479.950012</td>\n",
       "      <td>Late delivery</td>\n",
       "      <td>1</td>\n",
       "      <td>9</td>\n",
       "      <td>Cardio Equipment</td>\n",
       "      <td>Morrisville</td>\n",
       "      <td>...</td>\n",
       "      <td>9.600000</td>\n",
       "      <td>Southern Europe</td>\n",
       "      <td>Véneto</td>\n",
       "      <td>COMPLETE</td>\n",
       "      <td>191.0</td>\n",
       "      <td>9.0</td>\n",
       "      <td>Nike Men's Free 5.0+ Running Shoe</td>\n",
       "      <td>99.989998</td>\n",
       "      <td>Standard Class</td>\n",
       "      <td>2017-07</td>\n",
       "    </tr>\n",
       "    <tr>\n",
       "      <th>310</th>\n",
       "      <td>DEBIT</td>\n",
       "      <td>4</td>\n",
       "      <td>4</td>\n",
       "      <td>230.380005</td>\n",
       "      <td>479.950012</td>\n",
       "      <td>Shipping on time</td>\n",
       "      <td>0</td>\n",
       "      <td>9</td>\n",
       "      <td>Cardio Equipment</td>\n",
       "      <td>Memphis</td>\n",
       "      <td>...</td>\n",
       "      <td>230.380005</td>\n",
       "      <td>Southern Europe</td>\n",
       "      <td>Marche</td>\n",
       "      <td>COMPLETE</td>\n",
       "      <td>191.0</td>\n",
       "      <td>9.0</td>\n",
       "      <td>Nike Men's Free 5.0+ Running Shoe</td>\n",
       "      <td>99.989998</td>\n",
       "      <td>Standard Class</td>\n",
       "      <td>2017-09</td>\n",
       "    </tr>\n",
       "    <tr>\n",
       "      <th>313</th>\n",
       "      <td>DEBIT</td>\n",
       "      <td>2</td>\n",
       "      <td>4</td>\n",
       "      <td>218.479996</td>\n",
       "      <td>474.950012</td>\n",
       "      <td>Advance shipping</td>\n",
       "      <td>0</td>\n",
       "      <td>9</td>\n",
       "      <td>Cardio Equipment</td>\n",
       "      <td>Chicago</td>\n",
       "      <td>...</td>\n",
       "      <td>218.479996</td>\n",
       "      <td>Western Europe</td>\n",
       "      <td>Isla de Francia</td>\n",
       "      <td>COMPLETE</td>\n",
       "      <td>191.0</td>\n",
       "      <td>9.0</td>\n",
       "      <td>Nike Men's Free 5.0+ Running Shoe</td>\n",
       "      <td>99.989998</td>\n",
       "      <td>Standard Class</td>\n",
       "      <td>2017-09</td>\n",
       "    </tr>\n",
       "    <tr>\n",
       "      <th>314</th>\n",
       "      <td>DEBIT</td>\n",
       "      <td>5</td>\n",
       "      <td>4</td>\n",
       "      <td>-9.810000</td>\n",
       "      <td>166.199997</td>\n",
       "      <td>Late delivery</td>\n",
       "      <td>1</td>\n",
       "      <td>11</td>\n",
       "      <td>Fitness Accessories</td>\n",
       "      <td>Los Angeles</td>\n",
       "      <td>...</td>\n",
       "      <td>-9.810000</td>\n",
       "      <td>Western Europe</td>\n",
       "      <td>Provenza-Alpes-Costa Azul</td>\n",
       "      <td>COMPLETE</td>\n",
       "      <td>235.0</td>\n",
       "      <td>11.0</td>\n",
       "      <td>Under Armour Hustle Storm Medium Duffle Bag</td>\n",
       "      <td>34.990002</td>\n",
       "      <td>Standard Class</td>\n",
       "      <td>2015-10</td>\n",
       "    </tr>\n",
       "    <tr>\n",
       "      <th>319</th>\n",
       "      <td>TRANSFER</td>\n",
       "      <td>6</td>\n",
       "      <td>4</td>\n",
       "      <td>46.910000</td>\n",
       "      <td>101.980003</td>\n",
       "      <td>Late delivery</td>\n",
       "      <td>1</td>\n",
       "      <td>17</td>\n",
       "      <td>Cleats</td>\n",
       "      <td>Ventura</td>\n",
       "      <td>...</td>\n",
       "      <td>46.910000</td>\n",
       "      <td>South America</td>\n",
       "      <td>Norte de Santander</td>\n",
       "      <td>PROCESSING</td>\n",
       "      <td>365.0</td>\n",
       "      <td>17.0</td>\n",
       "      <td>Perfect Fitness Perfect Rip Deck</td>\n",
       "      <td>59.990002</td>\n",
       "      <td>Standard Class</td>\n",
       "      <td>2017-06</td>\n",
       "    </tr>\n",
       "    <tr>\n",
       "      <th>327</th>\n",
       "      <td>TRANSFER</td>\n",
       "      <td>4</td>\n",
       "      <td>4</td>\n",
       "      <td>10.960000</td>\n",
       "      <td>97.000000</td>\n",
       "      <td>Shipping on time</td>\n",
       "      <td>0</td>\n",
       "      <td>24</td>\n",
       "      <td>Women's Apparel</td>\n",
       "      <td>Plymouth</td>\n",
       "      <td>...</td>\n",
       "      <td>10.960000</td>\n",
       "      <td>Central America</td>\n",
       "      <td>Puebla</td>\n",
       "      <td>PROCESSING</td>\n",
       "      <td>502.0</td>\n",
       "      <td>24.0</td>\n",
       "      <td>Nike Men's Dri-FIT Victory Golf Polo</td>\n",
       "      <td>50.000000</td>\n",
       "      <td>Standard Class</td>\n",
       "      <td>2015-03</td>\n",
       "    </tr>\n",
       "    <tr>\n",
       "      <th>331</th>\n",
       "      <td>TRANSFER</td>\n",
       "      <td>6</td>\n",
       "      <td>4</td>\n",
       "      <td>35.709999</td>\n",
       "      <td>75.980003</td>\n",
       "      <td>Late delivery</td>\n",
       "      <td>1</td>\n",
       "      <td>29</td>\n",
       "      <td>Shop By Sport</td>\n",
       "      <td>Lodi</td>\n",
       "      <td>...</td>\n",
       "      <td>35.709999</td>\n",
       "      <td>Central America</td>\n",
       "      <td>Chimaltenango</td>\n",
       "      <td>PROCESSING</td>\n",
       "      <td>627.0</td>\n",
       "      <td>29.0</td>\n",
       "      <td>Under Armour Girls' Toddler Spine Surge Runni</td>\n",
       "      <td>39.990002</td>\n",
       "      <td>Standard Class</td>\n",
       "      <td>2015-05</td>\n",
       "    </tr>\n",
       "    <tr>\n",
       "      <th>333</th>\n",
       "      <td>TRANSFER</td>\n",
       "      <td>5</td>\n",
       "      <td>4</td>\n",
       "      <td>18.520000</td>\n",
       "      <td>132.300003</td>\n",
       "      <td>Late delivery</td>\n",
       "      <td>1</td>\n",
       "      <td>26</td>\n",
       "      <td>Girls' Apparel</td>\n",
       "      <td>Philadelphia</td>\n",
       "      <td>...</td>\n",
       "      <td>18.520000</td>\n",
       "      <td>Central America</td>\n",
       "      <td>Jalisco</td>\n",
       "      <td>PROCESSING</td>\n",
       "      <td>565.0</td>\n",
       "      <td>26.0</td>\n",
       "      <td>adidas Youth Germany Black/Red Away Match Soc</td>\n",
       "      <td>70.000000</td>\n",
       "      <td>Standard Class</td>\n",
       "      <td>2015-01</td>\n",
       "    </tr>\n",
       "    <tr>\n",
       "      <th>339</th>\n",
       "      <td>TRANSFER</td>\n",
       "      <td>4</td>\n",
       "      <td>4</td>\n",
       "      <td>17.129999</td>\n",
       "      <td>71.980003</td>\n",
       "      <td>Shipping on time</td>\n",
       "      <td>0</td>\n",
       "      <td>29</td>\n",
       "      <td>Shop By Sport</td>\n",
       "      <td>Houston</td>\n",
       "      <td>...</td>\n",
       "      <td>17.129999</td>\n",
       "      <td>Central America</td>\n",
       "      <td>Guatemala</td>\n",
       "      <td>PROCESSING</td>\n",
       "      <td>627.0</td>\n",
       "      <td>29.0</td>\n",
       "      <td>Under Armour Girls' Toddler Spine Surge Runni</td>\n",
       "      <td>39.990002</td>\n",
       "      <td>Standard Class</td>\n",
       "      <td>2015-03</td>\n",
       "    </tr>\n",
       "    <tr>\n",
       "      <th>341</th>\n",
       "      <td>TRANSFER</td>\n",
       "      <td>3</td>\n",
       "      <td>4</td>\n",
       "      <td>23.389999</td>\n",
       "      <td>71.980003</td>\n",
       "      <td>Advance shipping</td>\n",
       "      <td>0</td>\n",
       "      <td>29</td>\n",
       "      <td>Shop By Sport</td>\n",
       "      <td>Hayward</td>\n",
       "      <td>...</td>\n",
       "      <td>23.389999</td>\n",
       "      <td>South America</td>\n",
       "      <td>Monagas</td>\n",
       "      <td>PROCESSING</td>\n",
       "      <td>627.0</td>\n",
       "      <td>29.0</td>\n",
       "      <td>Under Armour Girls' Toddler Spine Surge Runni</td>\n",
       "      <td>39.990002</td>\n",
       "      <td>Standard Class</td>\n",
       "      <td>2015-01</td>\n",
       "    </tr>\n",
       "    <tr>\n",
       "      <th>343</th>\n",
       "      <td>TRANSFER</td>\n",
       "      <td>5</td>\n",
       "      <td>4</td>\n",
       "      <td>28.170000</td>\n",
       "      <td>90.000000</td>\n",
       "      <td>Late delivery</td>\n",
       "      <td>1</td>\n",
       "      <td>24</td>\n",
       "      <td>Women's Apparel</td>\n",
       "      <td>Martinsburg</td>\n",
       "      <td>...</td>\n",
       "      <td>28.170000</td>\n",
       "      <td>South America</td>\n",
       "      <td>São Paulo</td>\n",
       "      <td>PROCESSING</td>\n",
       "      <td>502.0</td>\n",
       "      <td>24.0</td>\n",
       "      <td>Nike Men's Dri-FIT Victory Golf Polo</td>\n",
       "      <td>50.000000</td>\n",
       "      <td>Standard Class</td>\n",
       "      <td>2015-01</td>\n",
       "    </tr>\n",
       "    <tr>\n",
       "      <th>347</th>\n",
       "      <td>TRANSFER</td>\n",
       "      <td>2</td>\n",
       "      <td>4</td>\n",
       "      <td>19.129999</td>\n",
       "      <td>85.000000</td>\n",
       "      <td>Advance shipping</td>\n",
       "      <td>0</td>\n",
       "      <td>24</td>\n",
       "      <td>Women's Apparel</td>\n",
       "      <td>Van Nuys</td>\n",
       "      <td>...</td>\n",
       "      <td>19.129999</td>\n",
       "      <td>Central America</td>\n",
       "      <td>Huehuetenango</td>\n",
       "      <td>PROCESSING</td>\n",
       "      <td>502.0</td>\n",
       "      <td>24.0</td>\n",
       "      <td>Nike Men's Dri-FIT Victory Golf Polo</td>\n",
       "      <td>50.000000</td>\n",
       "      <td>Standard Class</td>\n",
       "      <td>2015-05</td>\n",
       "    </tr>\n",
       "    <tr>\n",
       "      <th>466</th>\n",
       "      <td>PAYMENT</td>\n",
       "      <td>2</td>\n",
       "      <td>2</td>\n",
       "      <td>6.220000</td>\n",
       "      <td>163.770004</td>\n",
       "      <td>Shipping on time</td>\n",
       "      <td>0</td>\n",
       "      <td>17</td>\n",
       "      <td>Cleats</td>\n",
       "      <td>Caguas</td>\n",
       "      <td>...</td>\n",
       "      <td>6.220000</td>\n",
       "      <td>Eastern Asia</td>\n",
       "      <td>Guangdong</td>\n",
       "      <td>PENDING_PAYMENT</td>\n",
       "      <td>365.0</td>\n",
       "      <td>17.0</td>\n",
       "      <td>Perfect Fitness Perfect Rip Deck</td>\n",
       "      <td>59.990002</td>\n",
       "      <td>Second Class</td>\n",
       "      <td>2015-11</td>\n",
       "    </tr>\n",
       "    <tr>\n",
       "      <th>467</th>\n",
       "      <td>PAYMENT</td>\n",
       "      <td>6</td>\n",
       "      <td>2</td>\n",
       "      <td>-102.029999</td>\n",
       "      <td>152.970001</td>\n",
       "      <td>Late delivery</td>\n",
       "      <td>1</td>\n",
       "      <td>17</td>\n",
       "      <td>Cleats</td>\n",
       "      <td>Caguas</td>\n",
       "      <td>...</td>\n",
       "      <td>-102.029999</td>\n",
       "      <td>Oceania</td>\n",
       "      <td>Queensland</td>\n",
       "      <td>PENDING_PAYMENT</td>\n",
       "      <td>365.0</td>\n",
       "      <td>17.0</td>\n",
       "      <td>Perfect Fitness Perfect Rip Deck</td>\n",
       "      <td>59.990002</td>\n",
       "      <td>Second Class</td>\n",
       "      <td>2016-01</td>\n",
       "    </tr>\n",
       "    <tr>\n",
       "      <th>469</th>\n",
       "      <td>PAYMENT</td>\n",
       "      <td>5</td>\n",
       "      <td>2</td>\n",
       "      <td>44.150002</td>\n",
       "      <td>95.980003</td>\n",
       "      <td>Late delivery</td>\n",
       "      <td>1</td>\n",
       "      <td>29</td>\n",
       "      <td>Shop By Sport</td>\n",
       "      <td>Caguas</td>\n",
       "      <td>...</td>\n",
       "      <td>44.150002</td>\n",
       "      <td>Oceania</td>\n",
       "      <td>Nueva Gales del Sur</td>\n",
       "      <td>PENDING_PAYMENT</td>\n",
       "      <td>627.0</td>\n",
       "      <td>29.0</td>\n",
       "      <td>Under Armour Girls' Toddler Spine Surge Runni</td>\n",
       "      <td>39.990002</td>\n",
       "      <td>Second Class</td>\n",
       "      <td>2015-11</td>\n",
       "    </tr>\n",
       "    <tr>\n",
       "      <th>472</th>\n",
       "      <td>PAYMENT</td>\n",
       "      <td>5</td>\n",
       "      <td>2</td>\n",
       "      <td>28.180000</td>\n",
       "      <td>156.570007</td>\n",
       "      <td>Late delivery</td>\n",
       "      <td>1</td>\n",
       "      <td>17</td>\n",
       "      <td>Cleats</td>\n",
       "      <td>Caguas</td>\n",
       "      <td>...</td>\n",
       "      <td>28.180000</td>\n",
       "      <td>West of USA</td>\n",
       "      <td>Washington</td>\n",
       "      <td>PAYMENT_REVIEW</td>\n",
       "      <td>365.0</td>\n",
       "      <td>17.0</td>\n",
       "      <td>Perfect Fitness Perfect Rip Deck</td>\n",
       "      <td>59.990002</td>\n",
       "      <td>Second Class</td>\n",
       "      <td>2016-07</td>\n",
       "    </tr>\n",
       "    <tr>\n",
       "      <th>481</th>\n",
       "      <td>PAYMENT</td>\n",
       "      <td>6</td>\n",
       "      <td>2</td>\n",
       "      <td>138.589996</td>\n",
       "      <td>395.959992</td>\n",
       "      <td>Late delivery</td>\n",
       "      <td>1</td>\n",
       "      <td>9</td>\n",
       "      <td>Cardio Equipment</td>\n",
       "      <td>Caguas</td>\n",
       "      <td>...</td>\n",
       "      <td>138.589996</td>\n",
       "      <td>Western Europe</td>\n",
       "      <td>Hesse</td>\n",
       "      <td>PENDING_PAYMENT</td>\n",
       "      <td>191.0</td>\n",
       "      <td>9.0</td>\n",
       "      <td>Nike Men's Free 5.0+ Running Shoe</td>\n",
       "      <td>99.989998</td>\n",
       "      <td>Second Class</td>\n",
       "      <td>2015-07</td>\n",
       "    </tr>\n",
       "    <tr>\n",
       "      <th>482</th>\n",
       "      <td>PAYMENT</td>\n",
       "      <td>2</td>\n",
       "      <td>2</td>\n",
       "      <td>0.000000</td>\n",
       "      <td>126.680000</td>\n",
       "      <td>Shipping on time</td>\n",
       "      <td>0</td>\n",
       "      <td>13</td>\n",
       "      <td>Electronics</td>\n",
       "      <td>Caguas</td>\n",
       "      <td>...</td>\n",
       "      <td>0.000000</td>\n",
       "      <td>Western Europe</td>\n",
       "      <td>Languedoc-Rosellón-Mediodía-Pirineos</td>\n",
       "      <td>PENDING_PAYMENT</td>\n",
       "      <td>276.0</td>\n",
       "      <td>13.0</td>\n",
       "      <td>Under Armour Women's Ignite Slide</td>\n",
       "      <td>31.990000</td>\n",
       "      <td>Second Class</td>\n",
       "      <td>2015-09</td>\n",
       "    </tr>\n",
       "    <tr>\n",
       "      <th>483</th>\n",
       "      <td>PAYMENT</td>\n",
       "      <td>2</td>\n",
       "      <td>2</td>\n",
       "      <td>141.110001</td>\n",
       "      <td>391.959992</td>\n",
       "      <td>Shipping on time</td>\n",
       "      <td>0</td>\n",
       "      <td>9</td>\n",
       "      <td>Cardio Equipment</td>\n",
       "      <td>Caguas</td>\n",
       "      <td>...</td>\n",
       "      <td>141.110001</td>\n",
       "      <td>Western Europe</td>\n",
       "      <td>Bavaria</td>\n",
       "      <td>PENDING_PAYMENT</td>\n",
       "      <td>191.0</td>\n",
       "      <td>9.0</td>\n",
       "      <td>Nike Men's Free 5.0+ Running Shoe</td>\n",
       "      <td>99.989998</td>\n",
       "      <td>Second Class</td>\n",
       "      <td>2015-06</td>\n",
       "    </tr>\n",
       "    <tr>\n",
       "      <th>484</th>\n",
       "      <td>PAYMENT</td>\n",
       "      <td>4</td>\n",
       "      <td>2</td>\n",
       "      <td>77.050003</td>\n",
       "      <td>227.960007</td>\n",
       "      <td>Late delivery</td>\n",
       "      <td>1</td>\n",
       "      <td>17</td>\n",
       "      <td>Cleats</td>\n",
       "      <td>Caguas</td>\n",
       "      <td>...</td>\n",
       "      <td>77.050003</td>\n",
       "      <td>Northern Europe</td>\n",
       "      <td>Inglaterra</td>\n",
       "      <td>PENDING_PAYMENT</td>\n",
       "      <td>365.0</td>\n",
       "      <td>17.0</td>\n",
       "      <td>Perfect Fitness Perfect Rip Deck</td>\n",
       "      <td>59.990002</td>\n",
       "      <td>Second Class</td>\n",
       "      <td>2017-08</td>\n",
       "    </tr>\n",
       "    <tr>\n",
       "      <th>486</th>\n",
       "      <td>PAYMENT</td>\n",
       "      <td>3</td>\n",
       "      <td>2</td>\n",
       "      <td>17.740000</td>\n",
       "      <td>201.570007</td>\n",
       "      <td>Late delivery</td>\n",
       "      <td>1</td>\n",
       "      <td>17</td>\n",
       "      <td>Cleats</td>\n",
       "      <td>Caguas</td>\n",
       "      <td>...</td>\n",
       "      <td>17.740000</td>\n",
       "      <td>Western Europe</td>\n",
       "      <td>Renania del Norte-Westfalia</td>\n",
       "      <td>PENDING_PAYMENT</td>\n",
       "      <td>365.0</td>\n",
       "      <td>17.0</td>\n",
       "      <td>Perfect Fitness Perfect Rip Deck</td>\n",
       "      <td>59.990002</td>\n",
       "      <td>Second Class</td>\n",
       "      <td>2015-07</td>\n",
       "    </tr>\n",
       "    <tr>\n",
       "      <th>487</th>\n",
       "      <td>PAYMENT</td>\n",
       "      <td>2</td>\n",
       "      <td>2</td>\n",
       "      <td>-146.600006</td>\n",
       "      <td>200.000000</td>\n",
       "      <td>Shipping on time</td>\n",
       "      <td>0</td>\n",
       "      <td>24</td>\n",
       "      <td>Women's Apparel</td>\n",
       "      <td>Caguas</td>\n",
       "      <td>...</td>\n",
       "      <td>-146.600006</td>\n",
       "      <td>Western Europe</td>\n",
       "      <td>Isla de Francia</td>\n",
       "      <td>PENDING_PAYMENT</td>\n",
       "      <td>502.0</td>\n",
       "      <td>24.0</td>\n",
       "      <td>Nike Men's Dri-FIT Victory Golf Polo</td>\n",
       "      <td>50.000000</td>\n",
       "      <td>Second Class</td>\n",
       "      <td>2015-06</td>\n",
       "    </tr>\n",
       "    <tr>\n",
       "      <th>522</th>\n",
       "      <td>PAYMENT</td>\n",
       "      <td>5</td>\n",
       "      <td>2</td>\n",
       "      <td>-53.990002</td>\n",
       "      <td>179.970001</td>\n",
       "      <td>Late delivery</td>\n",
       "      <td>1</td>\n",
       "      <td>17</td>\n",
       "      <td>Cleats</td>\n",
       "      <td>Caguas</td>\n",
       "      <td>...</td>\n",
       "      <td>-53.990002</td>\n",
       "      <td>South of  USA</td>\n",
       "      <td>Florida</td>\n",
       "      <td>PENDING_PAYMENT</td>\n",
       "      <td>365.0</td>\n",
       "      <td>17.0</td>\n",
       "      <td>Perfect Fitness Perfect Rip Deck</td>\n",
       "      <td>59.990002</td>\n",
       "      <td>Second Class</td>\n",
       "      <td>2016-06</td>\n",
       "    </tr>\n",
       "    <tr>\n",
       "      <th>529</th>\n",
       "      <td>PAYMENT</td>\n",
       "      <td>2</td>\n",
       "      <td>2</td>\n",
       "      <td>114.389999</td>\n",
       "      <td>439.959992</td>\n",
       "      <td>Shipping on time</td>\n",
       "      <td>0</td>\n",
       "      <td>9</td>\n",
       "      <td>Cardio Equipment</td>\n",
       "      <td>Caguas</td>\n",
       "      <td>...</td>\n",
       "      <td>114.389999</td>\n",
       "      <td>Southern Europe</td>\n",
       "      <td>Apulia</td>\n",
       "      <td>PENDING_PAYMENT</td>\n",
       "      <td>191.0</td>\n",
       "      <td>9.0</td>\n",
       "      <td>Nike Men's Free 5.0+ Running Shoe</td>\n",
       "      <td>99.989998</td>\n",
       "      <td>Second Class</td>\n",
       "      <td>2015-08</td>\n",
       "    </tr>\n",
       "    <tr>\n",
       "      <th>530</th>\n",
       "      <td>PAYMENT</td>\n",
       "      <td>5</td>\n",
       "      <td>2</td>\n",
       "      <td>136.750000</td>\n",
       "      <td>290.950012</td>\n",
       "      <td>Late delivery</td>\n",
       "      <td>1</td>\n",
       "      <td>17</td>\n",
       "      <td>Cleats</td>\n",
       "      <td>Caguas</td>\n",
       "      <td>...</td>\n",
       "      <td>136.750000</td>\n",
       "      <td>Western Europe</td>\n",
       "      <td>Hamburgo</td>\n",
       "      <td>PENDING_PAYMENT</td>\n",
       "      <td>365.0</td>\n",
       "      <td>17.0</td>\n",
       "      <td>Perfect Fitness Perfect Rip Deck</td>\n",
       "      <td>59.990002</td>\n",
       "      <td>Second Class</td>\n",
       "      <td>2015-06</td>\n",
       "    </tr>\n",
       "    <tr>\n",
       "      <th>542</th>\n",
       "      <td>PAYMENT</td>\n",
       "      <td>2</td>\n",
       "      <td>2</td>\n",
       "      <td>-72.629997</td>\n",
       "      <td>290.500000</td>\n",
       "      <td>Shipping on time</td>\n",
       "      <td>0</td>\n",
       "      <td>26</td>\n",
       "      <td>Girls' Apparel</td>\n",
       "      <td>Caguas</td>\n",
       "      <td>...</td>\n",
       "      <td>-72.629997</td>\n",
       "      <td>Western Europe</td>\n",
       "      <td>Isla de Francia</td>\n",
       "      <td>PENDING_PAYMENT</td>\n",
       "      <td>565.0</td>\n",
       "      <td>26.0</td>\n",
       "      <td>adidas Youth Germany Black/Red Away Match Soc</td>\n",
       "      <td>70.000000</td>\n",
       "      <td>Second Class</td>\n",
       "      <td>2015-06</td>\n",
       "    </tr>\n",
       "    <tr>\n",
       "      <th>826</th>\n",
       "      <td>DEBIT</td>\n",
       "      <td>5</td>\n",
       "      <td>4</td>\n",
       "      <td>40.619999</td>\n",
       "      <td>324.959992</td>\n",
       "      <td>Late delivery</td>\n",
       "      <td>1</td>\n",
       "      <td>63</td>\n",
       "      <td>Children's Clothing</td>\n",
       "      <td>Baltimore</td>\n",
       "      <td>...</td>\n",
       "      <td>40.619999</td>\n",
       "      <td>South Asia</td>\n",
       "      <td>Andhra Pradesh</td>\n",
       "      <td>COMPLETE</td>\n",
       "      <td>1350.0</td>\n",
       "      <td>63.0</td>\n",
       "      <td>Children's heaters</td>\n",
       "      <td>357.100006</td>\n",
       "      <td>Standard Class</td>\n",
       "      <td>2017-12</td>\n",
       "    </tr>\n",
       "    <tr>\n",
       "      <th>1315</th>\n",
       "      <td>PAYMENT</td>\n",
       "      <td>2</td>\n",
       "      <td>2</td>\n",
       "      <td>16.440001</td>\n",
       "      <td>260.959992</td>\n",
       "      <td>Shipping on time</td>\n",
       "      <td>0</td>\n",
       "      <td>17</td>\n",
       "      <td>Cleats</td>\n",
       "      <td>Caguas</td>\n",
       "      <td>...</td>\n",
       "      <td>16.440001</td>\n",
       "      <td>US Center</td>\n",
       "      <td>Oklahoma</td>\n",
       "      <td>PENDING_PAYMENT</td>\n",
       "      <td>365.0</td>\n",
       "      <td>17.0</td>\n",
       "      <td>Perfect Fitness Perfect Rip Deck</td>\n",
       "      <td>59.990002</td>\n",
       "      <td>Second Class</td>\n",
       "      <td>2016-06</td>\n",
       "    </tr>\n",
       "    <tr>\n",
       "      <th>1316</th>\n",
       "      <td>PAYMENT</td>\n",
       "      <td>6</td>\n",
       "      <td>2</td>\n",
       "      <td>9.000000</td>\n",
       "      <td>179.960007</td>\n",
       "      <td>Late delivery</td>\n",
       "      <td>1</td>\n",
       "      <td>29</td>\n",
       "      <td>Shop By Sport</td>\n",
       "      <td>Caguas</td>\n",
       "      <td>...</td>\n",
       "      <td>9.000000</td>\n",
       "      <td>West of USA</td>\n",
       "      <td>California</td>\n",
       "      <td>PENDING_PAYMENT</td>\n",
       "      <td>627.0</td>\n",
       "      <td>29.0</td>\n",
       "      <td>Under Armour Girls' Toddler Spine Surge Runni</td>\n",
       "      <td>39.990002</td>\n",
       "      <td>Second Class</td>\n",
       "      <td>2016-06</td>\n",
       "    </tr>\n",
       "    <tr>\n",
       "      <th>1908</th>\n",
       "      <td>TRANSFER</td>\n",
       "      <td>2</td>\n",
       "      <td>4</td>\n",
       "      <td>94.500000</td>\n",
       "      <td>210.000000</td>\n",
       "      <td>Shipping canceled</td>\n",
       "      <td>0</td>\n",
       "      <td>24</td>\n",
       "      <td>Women's Apparel</td>\n",
       "      <td>Caguas</td>\n",
       "      <td>...</td>\n",
       "      <td>94.500000</td>\n",
       "      <td>South of  USA</td>\n",
       "      <td>Carolina del Norte</td>\n",
       "      <td>CANCELED</td>\n",
       "      <td>502.0</td>\n",
       "      <td>24.0</td>\n",
       "      <td>Nike Men's Dri-FIT Victory Golf Polo</td>\n",
       "      <td>50.000000</td>\n",
       "      <td>Standard Class</td>\n",
       "      <td>2016-06</td>\n",
       "    </tr>\n",
       "  </tbody>\n",
       "</table>\n",
       "<p>185 rows × 41 columns</p>\n",
       "</div>"
      ],
      "text/plain": [
       "          Type  Days for shipping (real)  Days for shipment (scheduled)  \\\n",
       "0        DEBIT                         3                              4   \n",
       "1     TRANSFER                         5                              4   \n",
       "2         CASH                         4                              4   \n",
       "3        DEBIT                         3                              4   \n",
       "4      PAYMENT                         2                              4   \n",
       "48     PAYMENT                         5                              2   \n",
       "49     PAYMENT                         2                              2   \n",
       "50     PAYMENT                         6                              2   \n",
       "51     PAYMENT                         2                              2   \n",
       "52     PAYMENT                         3                              2   \n",
       "53     PAYMENT                         5                              2   \n",
       "54     PAYMENT                         6                              2   \n",
       "55     PAYMENT                         2                              2   \n",
       "56     PAYMENT                         5                              2   \n",
       "57     PAYMENT                         6                              2   \n",
       "58     PAYMENT                         4                              2   \n",
       "59     PAYMENT                         2                              2   \n",
       "60     PAYMENT                         5                              2   \n",
       "61     PAYMENT                         5                              2   \n",
       "62     PAYMENT                         5                              2   \n",
       "63     PAYMENT                         3                              2   \n",
       "64     PAYMENT                         2                              2   \n",
       "65     PAYMENT                         6                              2   \n",
       "66     PAYMENT                         4                              2   \n",
       "67     PAYMENT                         2                              2   \n",
       "68     PAYMENT                         3                              2   \n",
       "69     PAYMENT                         3                              2   \n",
       "70     PAYMENT                         2                              2   \n",
       "71     PAYMENT                         4                              2   \n",
       "72     PAYMENT                         3                              2   \n",
       "...        ...                       ...                            ...   \n",
       "309      DEBIT                         6                              4   \n",
       "310      DEBIT                         4                              4   \n",
       "313      DEBIT                         2                              4   \n",
       "314      DEBIT                         5                              4   \n",
       "319   TRANSFER                         6                              4   \n",
       "327   TRANSFER                         4                              4   \n",
       "331   TRANSFER                         6                              4   \n",
       "333   TRANSFER                         5                              4   \n",
       "339   TRANSFER                         4                              4   \n",
       "341   TRANSFER                         3                              4   \n",
       "343   TRANSFER                         5                              4   \n",
       "347   TRANSFER                         2                              4   \n",
       "466    PAYMENT                         2                              2   \n",
       "467    PAYMENT                         6                              2   \n",
       "469    PAYMENT                         5                              2   \n",
       "472    PAYMENT                         5                              2   \n",
       "481    PAYMENT                         6                              2   \n",
       "482    PAYMENT                         2                              2   \n",
       "483    PAYMENT                         2                              2   \n",
       "484    PAYMENT                         4                              2   \n",
       "486    PAYMENT                         3                              2   \n",
       "487    PAYMENT                         2                              2   \n",
       "522    PAYMENT                         5                              2   \n",
       "529    PAYMENT                         2                              2   \n",
       "530    PAYMENT                         5                              2   \n",
       "542    PAYMENT                         2                              2   \n",
       "826      DEBIT                         5                              4   \n",
       "1315   PAYMENT                         2                              2   \n",
       "1316   PAYMENT                         6                              2   \n",
       "1908  TRANSFER                         2                              4   \n",
       "\n",
       "      Benefit per order  Sales per customer    Delivery Status  \\\n",
       "0             91.250000          314.640015   Advance shipping   \n",
       "1           -249.089996          311.359985      Late delivery   \n",
       "2           -247.779999          309.720001   Shipping on time   \n",
       "3             22.860001          304.809998   Advance shipping   \n",
       "4            134.210007          298.250000   Advance shipping   \n",
       "48           -30.750000          115.180000      Late delivery   \n",
       "49          -122.730003           79.180000   Shipping on time   \n",
       "50            33.599998           96.000000      Late delivery   \n",
       "51            24.690001           75.980003   Shipping on time   \n",
       "52             9.100000           91.000000      Late delivery   \n",
       "53           -21.750000           87.000000      Late delivery   \n",
       "54             6.150000           82.000000      Late delivery   \n",
       "55            22.410000           74.680000   Shipping on time   \n",
       "56            25.240000           90.150002      Late delivery   \n",
       "57            30.570000          117.580002      Late delivery   \n",
       "58            46.070000           95.980003      Late delivery   \n",
       "59          -184.779999          263.970001   Shipping on time   \n",
       "60            38.750000          113.970001      Late delivery   \n",
       "61            -3.650000           63.990002      Late delivery   \n",
       "62            38.230000           79.660004      Late delivery   \n",
       "63           129.350006          293.970001      Late delivery   \n",
       "64           132.289993          269.970001   Shipping on time   \n",
       "65            76.040001          224.979996      Late delivery   \n",
       "66            81.129997          176.369995      Late delivery   \n",
       "67            43.520000          167.369995   Shipping on time   \n",
       "68            68.779999          163.770004      Late delivery   \n",
       "69            40.490002          161.970001      Late delivery   \n",
       "70            20.930000          139.500000   Shipping on time   \n",
       "71            12.200000          107.970001      Late delivery   \n",
       "72            12.710000          112.500000      Late delivery   \n",
       "...                 ...                 ...                ...   \n",
       "309            9.600000          479.950012      Late delivery   \n",
       "310          230.380005          479.950012   Shipping on time   \n",
       "313          218.479996          474.950012   Advance shipping   \n",
       "314           -9.810000          166.199997      Late delivery   \n",
       "319           46.910000          101.980003      Late delivery   \n",
       "327           10.960000           97.000000   Shipping on time   \n",
       "331           35.709999           75.980003      Late delivery   \n",
       "333           18.520000          132.300003      Late delivery   \n",
       "339           17.129999           71.980003   Shipping on time   \n",
       "341           23.389999           71.980003   Advance shipping   \n",
       "343           28.170000           90.000000      Late delivery   \n",
       "347           19.129999           85.000000   Advance shipping   \n",
       "466            6.220000          163.770004   Shipping on time   \n",
       "467         -102.029999          152.970001      Late delivery   \n",
       "469           44.150002           95.980003      Late delivery   \n",
       "472           28.180000          156.570007      Late delivery   \n",
       "481          138.589996          395.959992      Late delivery   \n",
       "482            0.000000          126.680000   Shipping on time   \n",
       "483          141.110001          391.959992   Shipping on time   \n",
       "484           77.050003          227.960007      Late delivery   \n",
       "486           17.740000          201.570007      Late delivery   \n",
       "487         -146.600006          200.000000   Shipping on time   \n",
       "522          -53.990002          179.970001      Late delivery   \n",
       "529          114.389999          439.959992   Shipping on time   \n",
       "530          136.750000          290.950012      Late delivery   \n",
       "542          -72.629997          290.500000   Shipping on time   \n",
       "826           40.619999          324.959992      Late delivery   \n",
       "1315          16.440001          260.959992   Shipping on time   \n",
       "1316           9.000000          179.960007      Late delivery   \n",
       "1908          94.500000          210.000000  Shipping canceled   \n",
       "\n",
       "      Late_delivery_risk  Category Id        Category Name Customer City  \\\n",
       "0                      0           73       Sporting Goods        Caguas   \n",
       "1                      1           73       Sporting Goods        Caguas   \n",
       "2                      0           73       Sporting Goods      San Jose   \n",
       "3                      0           73       Sporting Goods   Los Angeles   \n",
       "4                      0           73       Sporting Goods        Caguas   \n",
       "48                     1           17               Cleats       Bayamon   \n",
       "49                     0           29        Shop By Sport        Caguas   \n",
       "50                     1           24      Women's Apparel        Caguas   \n",
       "51                     0           29        Shop By Sport        Caguas   \n",
       "52                     1           24      Women's Apparel        Caguas   \n",
       "53                     1           24      Women's Apparel        Caguas   \n",
       "54                     1           24      Women's Apparel        Caguas   \n",
       "55                     0           13          Electronics        Caguas   \n",
       "56                     1           12         Boxing & MMA        Caguas   \n",
       "57                     1           17               Cleats        Caguas   \n",
       "58                     1           17               Cleats        Caguas   \n",
       "59                     0            9     Cardio Equipment        Caguas   \n",
       "60                     1           29        Shop By Sport        Caguas   \n",
       "61                     1           41             Trade-In        Caguas   \n",
       "62                     1           37          Electronics        Caguas   \n",
       "63                     1            9     Cardio Equipment        Caguas   \n",
       "64                     0            9     Cardio Equipment        Caguas   \n",
       "65                     1            9     Cardio Equipment        Caguas   \n",
       "66                     1           17               Cleats        Caguas   \n",
       "67                     0           17               Cleats        Caguas   \n",
       "68                     1           17               Cleats        Caguas   \n",
       "69                     1           17               Cleats        Caguas   \n",
       "70                     0           24      Women's Apparel        Caguas   \n",
       "71                     1           29        Shop By Sport        Caguas   \n",
       "72                     1           24      Women's Apparel        Caguas   \n",
       "...                  ...          ...                  ...           ...   \n",
       "309                    1            9     Cardio Equipment   Morrisville   \n",
       "310                    0            9     Cardio Equipment       Memphis   \n",
       "313                    0            9     Cardio Equipment       Chicago   \n",
       "314                    1           11  Fitness Accessories   Los Angeles   \n",
       "319                    1           17               Cleats       Ventura   \n",
       "327                    0           24      Women's Apparel      Plymouth   \n",
       "331                    1           29        Shop By Sport          Lodi   \n",
       "333                    1           26       Girls' Apparel  Philadelphia   \n",
       "339                    0           29        Shop By Sport       Houston   \n",
       "341                    0           29        Shop By Sport       Hayward   \n",
       "343                    1           24      Women's Apparel   Martinsburg   \n",
       "347                    0           24      Women's Apparel      Van Nuys   \n",
       "466                    0           17               Cleats        Caguas   \n",
       "467                    1           17               Cleats        Caguas   \n",
       "469                    1           29        Shop By Sport        Caguas   \n",
       "472                    1           17               Cleats        Caguas   \n",
       "481                    1            9     Cardio Equipment        Caguas   \n",
       "482                    0           13          Electronics        Caguas   \n",
       "483                    0            9     Cardio Equipment        Caguas   \n",
       "484                    1           17               Cleats        Caguas   \n",
       "486                    1           17               Cleats        Caguas   \n",
       "487                    0           24      Women's Apparel        Caguas   \n",
       "522                    1           17               Cleats        Caguas   \n",
       "529                    0            9     Cardio Equipment        Caguas   \n",
       "530                    1           17               Cleats        Caguas   \n",
       "542                    0           26       Girls' Apparel        Caguas   \n",
       "826                    1           63  Children's Clothing     Baltimore   \n",
       "1315                   0           17               Cleats        Caguas   \n",
       "1316                   1           29        Shop By Sport        Caguas   \n",
       "1908                   0           24      Women's Apparel        Caguas   \n",
       "\n",
       "         ...     Order Profit Per Order     Order Region  \\\n",
       "0        ...                  91.250000   Southeast Asia   \n",
       "1        ...                -249.089996       South Asia   \n",
       "2        ...                -247.779999       South Asia   \n",
       "3        ...                  22.860001          Oceania   \n",
       "4        ...                 134.210007          Oceania   \n",
       "48       ...                 -30.750000       South Asia   \n",
       "49       ...                -122.730003        West Asia   \n",
       "50       ...                  33.599998          Oceania   \n",
       "51       ...                  24.690001        West Asia   \n",
       "52       ...                   9.100000     Eastern Asia   \n",
       "53       ...                 -21.750000        West Asia   \n",
       "54       ...                   6.150000       South Asia   \n",
       "55       ...                  22.410000     West of USA    \n",
       "56       ...                  25.240000     West of USA    \n",
       "57       ...                  30.570000     West of USA    \n",
       "58       ...                  46.070000       US Center    \n",
       "59       ...                -184.779999      West Africa   \n",
       "60       ...                  38.750000   Central Africa   \n",
       "61       ...                  -3.650000      West Africa   \n",
       "62       ...                  38.230000     North Africa   \n",
       "63       ...                 129.350006   Western Europe   \n",
       "64       ...                 132.289993   Western Europe   \n",
       "65       ...                  76.040001   Western Europe   \n",
       "66       ...                  81.129997   Western Europe   \n",
       "67       ...                  43.520000  Northern Europe   \n",
       "68       ...                  68.779999  Northern Europe   \n",
       "69       ...                  40.490002   Western Europe   \n",
       "70       ...                  20.930000   Western Europe   \n",
       "71       ...                  12.200000  Northern Europe   \n",
       "72       ...                  12.710000   Western Europe   \n",
       "...      ...                        ...              ...   \n",
       "309      ...                   9.600000  Southern Europe   \n",
       "310      ...                 230.380005  Southern Europe   \n",
       "313      ...                 218.479996   Western Europe   \n",
       "314      ...                  -9.810000   Western Europe   \n",
       "319      ...                  46.910000    South America   \n",
       "327      ...                  10.960000  Central America   \n",
       "331      ...                  35.709999  Central America   \n",
       "333      ...                  18.520000  Central America   \n",
       "339      ...                  17.129999  Central America   \n",
       "341      ...                  23.389999    South America   \n",
       "343      ...                  28.170000    South America   \n",
       "347      ...                  19.129999  Central America   \n",
       "466      ...                   6.220000     Eastern Asia   \n",
       "467      ...                -102.029999          Oceania   \n",
       "469      ...                  44.150002          Oceania   \n",
       "472      ...                  28.180000     West of USA    \n",
       "481      ...                 138.589996   Western Europe   \n",
       "482      ...                   0.000000   Western Europe   \n",
       "483      ...                 141.110001   Western Europe   \n",
       "484      ...                  77.050003  Northern Europe   \n",
       "486      ...                  17.740000   Western Europe   \n",
       "487      ...                -146.600006   Western Europe   \n",
       "522      ...                 -53.990002   South of  USA    \n",
       "529      ...                 114.389999  Southern Europe   \n",
       "530      ...                 136.750000   Western Europe   \n",
       "542      ...                 -72.629997   Western Europe   \n",
       "826      ...                  40.619999       South Asia   \n",
       "1315     ...                  16.440001       US Center    \n",
       "1316     ...                   9.000000     West of USA    \n",
       "1908     ...                  94.500000   South of  USA    \n",
       "\n",
       "                               Order State     Order Status  Product Card Id  \\\n",
       "0                          Java Occidental         COMPLETE           1360.0   \n",
       "1                                 Rajastán          PENDING           1360.0   \n",
       "2                                 Rajastán           CLOSED           1360.0   \n",
       "3                               Queensland         COMPLETE           1360.0   \n",
       "4                               Queensland  PENDING_PAYMENT           1360.0   \n",
       "48                           Uttar Pradesh  PENDING_PAYMENT            365.0   \n",
       "49                                   Bursa  PENDING_PAYMENT            627.0   \n",
       "50                       Australia del Sur  PENDING_PAYMENT            502.0   \n",
       "51                                Estambul  PENDING_PAYMENT            627.0   \n",
       "52                              Ulán Bator  PENDING_PAYMENT            502.0   \n",
       "53                                Estambul  PENDING_PAYMENT            502.0   \n",
       "54                                Rajastán  PENDING_PAYMENT            502.0   \n",
       "55                              Washington  PENDING_PAYMENT            278.0   \n",
       "56                              California  PENDING_PAYMENT            249.0   \n",
       "57                              California  PENDING_PAYMENT            365.0   \n",
       "58                                  Kansas  PENDING_PAYMENT            365.0   \n",
       "59                             Cross River  PENDING_PAYMENT            191.0   \n",
       "60                                Kinshasa  PENDING_PAYMENT            627.0   \n",
       "61                                   Dakar  PENDING_PAYMENT            917.0   \n",
       "62                         Gran Casablanca  PENDING_PAYMENT            828.0   \n",
       "63             Renania del Norte-Westfalia  PENDING_PAYMENT            191.0   \n",
       "64                         Isla de Francia  PENDING_PAYMENT            191.0   \n",
       "65                        Países del Loira  PENDING_PAYMENT            191.0   \n",
       "66                               Groningen  PENDING_PAYMENT            365.0   \n",
       "67                              Inglaterra  PENDING_PAYMENT            365.0   \n",
       "68                              Inglaterra  PENDING_PAYMENT            365.0   \n",
       "69         Alsacia-Champaña-Ardenas-Lorena  PENDING_PAYMENT            365.0   \n",
       "70                         Isla de Francia  PENDING_PAYMENT            502.0   \n",
       "71                              Inglaterra  PENDING_PAYMENT            627.0   \n",
       "72             Renania del Norte-Westfalia  PENDING_PAYMENT            502.0   \n",
       "...                                    ...              ...              ...   \n",
       "309                                 Véneto         COMPLETE            191.0   \n",
       "310                                 Marche         COMPLETE            191.0   \n",
       "313                        Isla de Francia         COMPLETE            191.0   \n",
       "314              Provenza-Alpes-Costa Azul         COMPLETE            235.0   \n",
       "319                     Norte de Santander       PROCESSING            365.0   \n",
       "327                                 Puebla       PROCESSING            502.0   \n",
       "331                          Chimaltenango       PROCESSING            627.0   \n",
       "333                                Jalisco       PROCESSING            565.0   \n",
       "339                              Guatemala       PROCESSING            627.0   \n",
       "341                                Monagas       PROCESSING            627.0   \n",
       "343                              São Paulo       PROCESSING            502.0   \n",
       "347                          Huehuetenango       PROCESSING            502.0   \n",
       "466                              Guangdong  PENDING_PAYMENT            365.0   \n",
       "467                             Queensland  PENDING_PAYMENT            365.0   \n",
       "469                    Nueva Gales del Sur  PENDING_PAYMENT            627.0   \n",
       "472                             Washington   PAYMENT_REVIEW            365.0   \n",
       "481                                  Hesse  PENDING_PAYMENT            191.0   \n",
       "482   Languedoc-Rosellón-Mediodía-Pirineos  PENDING_PAYMENT            276.0   \n",
       "483                                Bavaria  PENDING_PAYMENT            191.0   \n",
       "484                             Inglaterra  PENDING_PAYMENT            365.0   \n",
       "486            Renania del Norte-Westfalia  PENDING_PAYMENT            365.0   \n",
       "487                        Isla de Francia  PENDING_PAYMENT            502.0   \n",
       "522                                Florida  PENDING_PAYMENT            365.0   \n",
       "529                                 Apulia  PENDING_PAYMENT            191.0   \n",
       "530                               Hamburgo  PENDING_PAYMENT            365.0   \n",
       "542                        Isla de Francia  PENDING_PAYMENT            565.0   \n",
       "826                         Andhra Pradesh         COMPLETE           1350.0   \n",
       "1315                              Oklahoma  PENDING_PAYMENT            365.0   \n",
       "1316                            California  PENDING_PAYMENT            627.0   \n",
       "1908                    Carolina del Norte         CANCELED            502.0   \n",
       "\n",
       "     Product Category Id                                   Product Name  \\\n",
       "0                   73.0                                   Smart watch    \n",
       "1                   73.0                                   Smart watch    \n",
       "2                   73.0                                   Smart watch    \n",
       "3                   73.0                                   Smart watch    \n",
       "4                   73.0                                   Smart watch    \n",
       "48                  17.0               Perfect Fitness Perfect Rip Deck   \n",
       "49                  29.0  Under Armour Girls' Toddler Spine Surge Runni   \n",
       "50                  24.0           Nike Men's Dri-FIT Victory Golf Polo   \n",
       "51                  29.0  Under Armour Girls' Toddler Spine Surge Runni   \n",
       "52                  24.0           Nike Men's Dri-FIT Victory Golf Polo   \n",
       "53                  24.0           Nike Men's Dri-FIT Victory Golf Polo   \n",
       "54                  24.0           Nike Men's Dri-FIT Victory Golf Polo   \n",
       "55                  13.0     Under Armour Men's Compression EV SL Slide   \n",
       "56                  12.0  Under Armour Women's Micro G Skulpt Running S   \n",
       "57                  17.0               Perfect Fitness Perfect Rip Deck   \n",
       "58                  17.0               Perfect Fitness Perfect Rip Deck   \n",
       "59                   9.0              Nike Men's Free 5.0+ Running Shoe   \n",
       "60                  29.0  Under Armour Girls' Toddler Spine Surge Runni   \n",
       "61                  41.0  Glove It Women's Mod Oval 3-Zip Carry All Gol   \n",
       "62                  37.0  Bridgestone e6 Straight Distance NFL San Dieg   \n",
       "63                   9.0              Nike Men's Free 5.0+ Running Shoe   \n",
       "64                   9.0              Nike Men's Free 5.0+ Running Shoe   \n",
       "65                   9.0              Nike Men's Free 5.0+ Running Shoe   \n",
       "66                  17.0               Perfect Fitness Perfect Rip Deck   \n",
       "67                  17.0               Perfect Fitness Perfect Rip Deck   \n",
       "68                  17.0               Perfect Fitness Perfect Rip Deck   \n",
       "69                  17.0               Perfect Fitness Perfect Rip Deck   \n",
       "70                  24.0           Nike Men's Dri-FIT Victory Golf Polo   \n",
       "71                  29.0  Under Armour Girls' Toddler Spine Surge Runni   \n",
       "72                  24.0           Nike Men's Dri-FIT Victory Golf Polo   \n",
       "...                  ...                                            ...   \n",
       "309                  9.0              Nike Men's Free 5.0+ Running Shoe   \n",
       "310                  9.0              Nike Men's Free 5.0+ Running Shoe   \n",
       "313                  9.0              Nike Men's Free 5.0+ Running Shoe   \n",
       "314                 11.0    Under Armour Hustle Storm Medium Duffle Bag   \n",
       "319                 17.0               Perfect Fitness Perfect Rip Deck   \n",
       "327                 24.0           Nike Men's Dri-FIT Victory Golf Polo   \n",
       "331                 29.0  Under Armour Girls' Toddler Spine Surge Runni   \n",
       "333                 26.0  adidas Youth Germany Black/Red Away Match Soc   \n",
       "339                 29.0  Under Armour Girls' Toddler Spine Surge Runni   \n",
       "341                 29.0  Under Armour Girls' Toddler Spine Surge Runni   \n",
       "343                 24.0           Nike Men's Dri-FIT Victory Golf Polo   \n",
       "347                 24.0           Nike Men's Dri-FIT Victory Golf Polo   \n",
       "466                 17.0               Perfect Fitness Perfect Rip Deck   \n",
       "467                 17.0               Perfect Fitness Perfect Rip Deck   \n",
       "469                 29.0  Under Armour Girls' Toddler Spine Surge Runni   \n",
       "472                 17.0               Perfect Fitness Perfect Rip Deck   \n",
       "481                  9.0              Nike Men's Free 5.0+ Running Shoe   \n",
       "482                 13.0              Under Armour Women's Ignite Slide   \n",
       "483                  9.0              Nike Men's Free 5.0+ Running Shoe   \n",
       "484                 17.0               Perfect Fitness Perfect Rip Deck   \n",
       "486                 17.0               Perfect Fitness Perfect Rip Deck   \n",
       "487                 24.0           Nike Men's Dri-FIT Victory Golf Polo   \n",
       "522                 17.0               Perfect Fitness Perfect Rip Deck   \n",
       "529                  9.0              Nike Men's Free 5.0+ Running Shoe   \n",
       "530                 17.0               Perfect Fitness Perfect Rip Deck   \n",
       "542                 26.0  adidas Youth Germany Black/Red Away Match Soc   \n",
       "826                 63.0                             Children's heaters   \n",
       "1315                17.0               Perfect Fitness Perfect Rip Deck   \n",
       "1316                29.0  Under Armour Girls' Toddler Spine Surge Runni   \n",
       "1908                24.0           Nike Men's Dri-FIT Victory Golf Polo   \n",
       "\n",
       "     Product Price   Shipping Mode  month_year  \n",
       "0       327.750000  Standard Class     2018-01  \n",
       "1       327.750000  Standard Class     2018-01  \n",
       "2       327.750000  Standard Class     2018-01  \n",
       "3       327.750000  Standard Class     2018-01  \n",
       "4       327.750000  Standard Class     2018-01  \n",
       "48       59.990002    Second Class     2016-02  \n",
       "49       39.990002    Second Class     2016-10  \n",
       "50       50.000000    Second Class     2016-03  \n",
       "51       39.990002    Second Class     2016-10  \n",
       "52       50.000000    Second Class     2016-11  \n",
       "53       50.000000    Second Class     2016-12  \n",
       "54       50.000000    Second Class     2015-10  \n",
       "55       44.990002    Second Class     2016-06  \n",
       "56       54.970001    Second Class     2016-08  \n",
       "57       59.990002    Second Class     2016-04  \n",
       "58       59.990002    Second Class     2016-05  \n",
       "59       99.989998    Second Class     2016-10  \n",
       "60       39.990002    Second Class     2016-11  \n",
       "61       21.990000    Second Class     2016-11  \n",
       "62       31.990000    Second Class     2016-12  \n",
       "63       99.989998    Second Class     2015-07  \n",
       "64       99.989998    Second Class     2017-07  \n",
       "65       99.989998    Second Class     2017-08  \n",
       "66       59.990002    Second Class     2015-09  \n",
       "67       59.990002    Second Class     2017-07  \n",
       "68       59.990002    Second Class     2015-09  \n",
       "69       59.990002    Second Class     2017-08  \n",
       "70       50.000000    Second Class     2017-07  \n",
       "71       39.990002    Second Class     2017-08  \n",
       "72       50.000000    Second Class     2017-09  \n",
       "...            ...             ...         ...  \n",
       "309      99.989998  Standard Class     2017-07  \n",
       "310      99.989998  Standard Class     2017-09  \n",
       "313      99.989998  Standard Class     2017-09  \n",
       "314      34.990002  Standard Class     2015-10  \n",
       "319      59.990002  Standard Class     2017-06  \n",
       "327      50.000000  Standard Class     2015-03  \n",
       "331      39.990002  Standard Class     2015-05  \n",
       "333      70.000000  Standard Class     2015-01  \n",
       "339      39.990002  Standard Class     2015-03  \n",
       "341      39.990002  Standard Class     2015-01  \n",
       "343      50.000000  Standard Class     2015-01  \n",
       "347      50.000000  Standard Class     2015-05  \n",
       "466      59.990002    Second Class     2015-11  \n",
       "467      59.990002    Second Class     2016-01  \n",
       "469      39.990002    Second Class     2015-11  \n",
       "472      59.990002    Second Class     2016-07  \n",
       "481      99.989998    Second Class     2015-07  \n",
       "482      31.990000    Second Class     2015-09  \n",
       "483      99.989998    Second Class     2015-06  \n",
       "484      59.990002    Second Class     2017-08  \n",
       "486      59.990002    Second Class     2015-07  \n",
       "487      50.000000    Second Class     2015-06  \n",
       "522      59.990002    Second Class     2016-06  \n",
       "529      99.989998    Second Class     2015-08  \n",
       "530      59.990002    Second Class     2015-06  \n",
       "542      70.000000    Second Class     2015-06  \n",
       "826     357.100006  Standard Class     2017-12  \n",
       "1315     59.990002    Second Class     2016-06  \n",
       "1316     39.990002    Second Class     2016-06  \n",
       "1908     50.000000  Standard Class     2016-06  \n",
       "\n",
       "[185 rows x 41 columns]"
      ]
     },
     "execution_count": 612,
     "metadata": {},
     "output_type": "execute_result"
    }
   ],
   "source": [
    "monthdata.head()"
   ]
  },
  {
   "cell_type": "code",
   "execution_count": 613,
   "metadata": {},
   "outputs": [
    {
     "data": {
      "image/png": "[encoded data removed]",
      "text/plain": [
       "<Figure size 1080x360 with 1 Axes>"
      ]
     },
     "metadata": {},
     "output_type": "display_data"
    }
   ],
   "source": [
    "plt.style.use(\"seaborn\")\n",
    "data = monthdata['Sales'].sum().plot(figsize = (15,5))"
   ]
  },
  {
   "cell_type": "raw",
   "metadata": {},
   "source": [
    "From the graph, we see that there is sudden drop in sales in Jan 2016 and Jan 2018"
   ]
  },
  {
   "cell_type": "markdown",
   "metadata": {},
   "source": [
    "# Exploratory Data Analysis (EDA)"
   ]
  },
  {
   "cell_type": "markdown",
   "metadata": {},
   "source": [
    "As the dataset is of Supply chain, it would be significant to perform trend analysis on scheduled vs on time delivery"
   ]
  },
  {
   "cell_type": "code",
   "execution_count": 614,
   "metadata": {},
   "outputs": [],
   "source": [
    "df2 = df[['month_year','Days for shipping (real)','Days for shipment (scheduled)']]"
   ]
  },
  {
   "cell_type": "code",
   "execution_count": 615,
   "metadata": {},
   "outputs": [],
   "source": [
    "df2.rename(columns = {'Days for shipping (real)': 'actual_days_for_shipping', \n",
    "            'Days for shipment (scheduled)':'scheduled_days_for_shipping'},inplace=True)"
   ]
  },
  {
   "cell_type": "code",
   "execution_count": 616,
   "metadata": {},
   "outputs": [],
   "source": [
    "groups = df2.groupby('month_year')"
   ]
  },
  {
   "cell_type": "code",
   "execution_count": 617,
   "metadata": {},
   "outputs": [],
   "source": [
    "df3  = groups.mean()"
   ]
  },
  {
   "cell_type": "code",
   "execution_count": 618,
   "metadata": {},
   "outputs": [],
   "source": [
    "df3.reset_index(inplace= True)"
   ]
  },
  {
   "cell_type": "code",
   "execution_count": 619,
   "metadata": {},
   "outputs": [
    {
     "data": {
      "text/plain": [
       "<matplotlib.axes._subplots.AxesSubplot at 0x206b4fac2b0>"
      ]
     },
     "execution_count": 619,
     "metadata": {},
     "output_type": "execute_result"
    },
    {
     "data": {
      "image/png": "[encoded data removed]",
      "text/plain": [
       "<Figure size 1080x288 with 1 Axes>"
      ]
     },
     "metadata": {
      "needs_background": "light"
     },
     "output_type": "display_data"
    }
   ],
   "source": [
    "import matplotlib.pyplot as plt\n",
    "%matplotlib inline\n",
    "\n",
    "df3.plot(figsize=(15,4),title= 'Delivery Actual vs scheduled (Avg) by Month')\n"
   ]
  },
  {
   "cell_type": "raw",
   "metadata": {},
   "source": [
    "From the figure, we see that there is a significant difference between number of scheduled days for shipping vs actual shipping days on avg.\n",
    "\n",
    "Insights : This can be a huge threat to the business and it could also be one of the reasons to cause loss or decrese in sales \n"
   ]
  },
  {
   "cell_type": "raw",
   "metadata": {},
   "source": [
    "Let us also see what percentage of deliveries are delayed"
   ]
  },
  {
   "cell_type": "code",
   "execution_count": 620,
   "metadata": {},
   "outputs": [
    {
     "data": {
      "image/png": "[encoded data removed]",
      "text/plain": [
       "<Figure size 1440x720 with 1 Axes>"
      ]
     },
     "metadata": {},
     "output_type": "display_data"
    }
   ],
   "source": [
    "colors = ['gold', 'blue', 'red', 'green']\n",
    "Piechart = df['Delivery Status'].value_counts().plot.pie(figsize=(20,10),\n",
    "startangle=180, explode=(0.1,0,0,0),autopct='%1.1f%%',shadow=True,textprops={'fontsize': 16},colors = colors)\n",
    "plt.title(\"Delivery Status in Percentage \",size=20,color='black') \n",
    "plt.ylabel(\" \")\n",
    "Piechart.axis('equal') \n",
    "plt.show()\n"
   ]
  },
  {
   "cell_type": "code",
   "execution_count": 621,
   "metadata": {},
   "outputs": [],
   "source": [
    "# Let us explore the regions with the most late delivery\n",
    "lateDeliveryData = df[(df['Delivery Status']) == 'Late delivery']"
   ]
  },
  {
   "cell_type": "code",
   "execution_count": 622,
   "metadata": {},
   "outputs": [
    {
     "data": {
      "text/plain": [
       "<matplotlib.axes._subplots.AxesSubplot at 0x2070b36fd30>"
      ]
     },
     "execution_count": 622,
     "metadata": {},
     "output_type": "execute_result"
    },
    {
     "data": {
      "image/png": "[encoded data removed]",
      "text/plain": [
       "<Figure size 1008x360 with 1 Axes>"
      ]
     },
     "metadata": {
      "needs_background": "light"
     },
     "output_type": "display_data"
    }
   ],
   "source": [
    "lateDeliveryData['Order Region'].value_counts().nlargest(10).plot.bar(title ='Regions with Late Delivered products',figsize = (14,5))\n",
    "                                                                    "
   ]
  },
  {
   "cell_type": "raw",
   "metadata": {},
   "source": [
    "Insights : Out of total transactions, 56.6% are late deliveries while 40.7% deliveries are either on time or before time.\n",
    "From above analysis,the company should take actionable steps to improve on Product Delivery KPI and transportations modes to \n",
    "the regions with the most late delivered products i.e. Europe, America, Asia. "
   ]
  },
  {
   "cell_type": "code",
   "execution_count": 623,
   "metadata": {},
   "outputs": [
    {
     "data": {
      "text/html": [
       "<div>\n",
       "<style scoped>\n",
       "    .dataframe tbody tr th:only-of-type {\n",
       "        vertical-align: middle;\n",
       "    }\n",
       "\n",
       "    .dataframe tbody tr th {\n",
       "        vertical-align: top;\n",
       "    }\n",
       "\n",
       "    .dataframe thead th {\n",
       "        text-align: right;\n",
       "    }\n",
       "</style>\n",
       "<table border=\"1\" class=\"dataframe\">\n",
       "  <thead>\n",
       "    <tr style=\"text-align: right;\">\n",
       "      <th></th>\n",
       "      <th>Type</th>\n",
       "      <th>Days for shipping (real)</th>\n",
       "      <th>Days for shipment (scheduled)</th>\n",
       "      <th>Benefit per order</th>\n",
       "      <th>Sales per customer</th>\n",
       "      <th>Delivery Status</th>\n",
       "      <th>Late_delivery_risk</th>\n",
       "      <th>Category Id</th>\n",
       "      <th>Category Name</th>\n",
       "      <th>Customer City</th>\n",
       "      <th>...</th>\n",
       "      <th>Order Profit Per Order</th>\n",
       "      <th>Order Region</th>\n",
       "      <th>Order State</th>\n",
       "      <th>Order Status</th>\n",
       "      <th>Product Card Id</th>\n",
       "      <th>Product Category Id</th>\n",
       "      <th>Product Name</th>\n",
       "      <th>Product Price</th>\n",
       "      <th>Shipping Mode</th>\n",
       "      <th>month_year</th>\n",
       "    </tr>\n",
       "  </thead>\n",
       "  <tbody>\n",
       "    <tr>\n",
       "      <th>0</th>\n",
       "      <td>DEBIT</td>\n",
       "      <td>3</td>\n",
       "      <td>4</td>\n",
       "      <td>91.250000</td>\n",
       "      <td>314.640015</td>\n",
       "      <td>Advance shipping</td>\n",
       "      <td>0</td>\n",
       "      <td>73</td>\n",
       "      <td>Sporting Goods</td>\n",
       "      <td>Caguas</td>\n",
       "      <td>...</td>\n",
       "      <td>91.250000</td>\n",
       "      <td>Southeast Asia</td>\n",
       "      <td>Java Occidental</td>\n",
       "      <td>COMPLETE</td>\n",
       "      <td>1360.0</td>\n",
       "      <td>73.0</td>\n",
       "      <td>Smart watch</td>\n",
       "      <td>327.75</td>\n",
       "      <td>Standard Class</td>\n",
       "      <td>2018-01</td>\n",
       "    </tr>\n",
       "    <tr>\n",
       "      <th>1</th>\n",
       "      <td>TRANSFER</td>\n",
       "      <td>5</td>\n",
       "      <td>4</td>\n",
       "      <td>-249.089996</td>\n",
       "      <td>311.359985</td>\n",
       "      <td>Late delivery</td>\n",
       "      <td>1</td>\n",
       "      <td>73</td>\n",
       "      <td>Sporting Goods</td>\n",
       "      <td>Caguas</td>\n",
       "      <td>...</td>\n",
       "      <td>-249.089996</td>\n",
       "      <td>South Asia</td>\n",
       "      <td>Rajastán</td>\n",
       "      <td>PENDING</td>\n",
       "      <td>1360.0</td>\n",
       "      <td>73.0</td>\n",
       "      <td>Smart watch</td>\n",
       "      <td>327.75</td>\n",
       "      <td>Standard Class</td>\n",
       "      <td>2018-01</td>\n",
       "    </tr>\n",
       "    <tr>\n",
       "      <th>2</th>\n",
       "      <td>CASH</td>\n",
       "      <td>4</td>\n",
       "      <td>4</td>\n",
       "      <td>-247.779999</td>\n",
       "      <td>309.720001</td>\n",
       "      <td>Shipping on time</td>\n",
       "      <td>0</td>\n",
       "      <td>73</td>\n",
       "      <td>Sporting Goods</td>\n",
       "      <td>San Jose</td>\n",
       "      <td>...</td>\n",
       "      <td>-247.779999</td>\n",
       "      <td>South Asia</td>\n",
       "      <td>Rajastán</td>\n",
       "      <td>CLOSED</td>\n",
       "      <td>1360.0</td>\n",
       "      <td>73.0</td>\n",
       "      <td>Smart watch</td>\n",
       "      <td>327.75</td>\n",
       "      <td>Standard Class</td>\n",
       "      <td>2018-01</td>\n",
       "    </tr>\n",
       "    <tr>\n",
       "      <th>3</th>\n",
       "      <td>DEBIT</td>\n",
       "      <td>3</td>\n",
       "      <td>4</td>\n",
       "      <td>22.860001</td>\n",
       "      <td>304.809998</td>\n",
       "      <td>Advance shipping</td>\n",
       "      <td>0</td>\n",
       "      <td>73</td>\n",
       "      <td>Sporting Goods</td>\n",
       "      <td>Los Angeles</td>\n",
       "      <td>...</td>\n",
       "      <td>22.860001</td>\n",
       "      <td>Oceania</td>\n",
       "      <td>Queensland</td>\n",
       "      <td>COMPLETE</td>\n",
       "      <td>1360.0</td>\n",
       "      <td>73.0</td>\n",
       "      <td>Smart watch</td>\n",
       "      <td>327.75</td>\n",
       "      <td>Standard Class</td>\n",
       "      <td>2018-01</td>\n",
       "    </tr>\n",
       "    <tr>\n",
       "      <th>4</th>\n",
       "      <td>PAYMENT</td>\n",
       "      <td>2</td>\n",
       "      <td>4</td>\n",
       "      <td>134.210007</td>\n",
       "      <td>298.250000</td>\n",
       "      <td>Advance shipping</td>\n",
       "      <td>0</td>\n",
       "      <td>73</td>\n",
       "      <td>Sporting Goods</td>\n",
       "      <td>Caguas</td>\n",
       "      <td>...</td>\n",
       "      <td>134.210007</td>\n",
       "      <td>Oceania</td>\n",
       "      <td>Queensland</td>\n",
       "      <td>PENDING_PAYMENT</td>\n",
       "      <td>1360.0</td>\n",
       "      <td>73.0</td>\n",
       "      <td>Smart watch</td>\n",
       "      <td>327.75</td>\n",
       "      <td>Standard Class</td>\n",
       "      <td>2018-01</td>\n",
       "    </tr>\n",
       "  </tbody>\n",
       "</table>\n",
       "<p>5 rows × 41 columns</p>\n",
       "</div>"
      ],
      "text/plain": [
       "       Type  Days for shipping (real)  Days for shipment (scheduled)  \\\n",
       "0     DEBIT                         3                              4   \n",
       "1  TRANSFER                         5                              4   \n",
       "2      CASH                         4                              4   \n",
       "3     DEBIT                         3                              4   \n",
       "4   PAYMENT                         2                              4   \n",
       "\n",
       "   Benefit per order  Sales per customer   Delivery Status  \\\n",
       "0          91.250000          314.640015  Advance shipping   \n",
       "1        -249.089996          311.359985     Late delivery   \n",
       "2        -247.779999          309.720001  Shipping on time   \n",
       "3          22.860001          304.809998  Advance shipping   \n",
       "4         134.210007          298.250000  Advance shipping   \n",
       "\n",
       "   Late_delivery_risk  Category Id   Category Name Customer City     ...      \\\n",
       "0                   0           73  Sporting Goods        Caguas     ...       \n",
       "1                   1           73  Sporting Goods        Caguas     ...       \n",
       "2                   0           73  Sporting Goods      San Jose     ...       \n",
       "3                   0           73  Sporting Goods   Los Angeles     ...       \n",
       "4                   0           73  Sporting Goods        Caguas     ...       \n",
       "\n",
       "  Order Profit Per Order    Order Region      Order State     Order Status  \\\n",
       "0              91.250000  Southeast Asia  Java Occidental         COMPLETE   \n",
       "1            -249.089996      South Asia         Rajastán          PENDING   \n",
       "2            -247.779999      South Asia         Rajastán           CLOSED   \n",
       "3              22.860001         Oceania       Queensland         COMPLETE   \n",
       "4             134.210007         Oceania       Queensland  PENDING_PAYMENT   \n",
       "\n",
       "   Product Card Id Product Category Id  Product Name Product Price  \\\n",
       "0           1360.0                73.0  Smart watch         327.75   \n",
       "1           1360.0                73.0  Smart watch         327.75   \n",
       "2           1360.0                73.0  Smart watch         327.75   \n",
       "3           1360.0                73.0  Smart watch         327.75   \n",
       "4           1360.0                73.0  Smart watch         327.75   \n",
       "\n",
       "    Shipping Mode  month_year  \n",
       "0  Standard Class     2018-01  \n",
       "1  Standard Class     2018-01  \n",
       "2  Standard Class     2018-01  \n",
       "3  Standard Class     2018-01  \n",
       "4  Standard Class     2018-01  \n",
       "\n",
       "[5 rows x 41 columns]"
      ]
     },
     "execution_count": 623,
     "metadata": {},
     "output_type": "execute_result"
    }
   ],
   "source": [
    "df.head()"
   ]
  },
  {
   "cell_type": "code",
   "execution_count": 624,
   "metadata": {},
   "outputs": [],
   "source": [
    "#Market wise sales\n",
    "#aggregating data\n",
    "markets = df.groupby('Market')"
   ]
  },
  {
   "cell_type": "code",
   "execution_count": 625,
   "metadata": {},
   "outputs": [
    {
     "data": {
      "text/plain": [
       "<matplotlib.axes._subplots.AxesSubplot at 0x2069e9f4a20>"
      ]
     },
     "execution_count": 625,
     "metadata": {},
     "output_type": "execute_result"
    },
    {
     "data": {
      "image/png": "[encoded data removed]",
      "text/plain": [
       "<Figure size 1008x360 with 1 Axes>"
      ]
     },
     "metadata": {
      "needs_background": "light"
     },
     "output_type": "display_data"
    }
   ],
   "source": [
    "markets['Sales'].sum().sort_values(ascending =False).plot.bar(title = 'Sales by Market',figsize = (14,5))\n",
    "                                                                                                "
   ]
  },
  {
   "cell_type": "code",
   "execution_count": 626,
   "metadata": {},
   "outputs": [],
   "source": [
    "# Sales by order Region\n",
    "regions = df.groupby('Order Region')"
   ]
  },
  {
   "cell_type": "code",
   "execution_count": 627,
   "metadata": {},
   "outputs": [
    {
     "data": {
      "text/plain": [
       "<matplotlib.axes._subplots.AxesSubplot at 0x2069e8a2390>"
      ]
     },
     "execution_count": 627,
     "metadata": {},
     "output_type": "execute_result"
    },
    {
     "data": {
      "image/png": "[encoded data removed]",
      "text/plain": [
       "<Figure size 1008x360 with 1 Axes>"
      ]
     },
     "metadata": {
      "needs_background": "light"
     },
     "output_type": "display_data"
    }
   ],
   "source": [
    "regions['Sales'].sum().sort_values(ascending = False).plot.bar(title = 'Sales by Region',figsize = (14,5))"
   ]
  },
  {
   "cell_type": "raw",
   "metadata": {},
   "source": [
    "Marketwise sales are high in Europe while Africa contributes to the lowest sales in all markets. However, from second graph, the lowest sales are from Central Asia. \n",
    "Insights : The company can conduct a reaserch on why these regions are contributing to less sales."
   ]
  },
  {
   "cell_type": "code",
   "execution_count": 628,
   "metadata": {},
   "outputs": [],
   "source": [
    "# Let's explore the Product KPI\n",
    "# Top 10 Products Sold"
   ]
  },
  {
   "cell_type": "code",
   "execution_count": 629,
   "metadata": {},
   "outputs": [
    {
     "data": {
      "text/plain": [
       "<matplotlib.axes._subplots.AxesSubplot at 0x2069e8ecf98>"
      ]
     },
     "execution_count": 629,
     "metadata": {},
     "output_type": "execute_result"
    },
    {
     "data": {
      "image/png": "[encoded data removed]",
      "text/plain": [
       "<Figure size 936x360 with 1 Axes>"
      ]
     },
     "metadata": {
      "needs_background": "light"
     },
     "output_type": "display_data"
    }
   ],
   "source": [
    "df['Category Name'].value_counts().nlargest(10).plot.bar(title = 'Top 10 products sold', figsize = (13,5),color = 'blue')"
   ]
  },
  {
   "cell_type": "code",
   "execution_count": 630,
   "metadata": {},
   "outputs": [],
   "source": [
    "# Least 10 products sold "
   ]
  },
  {
   "cell_type": "code",
   "execution_count": 631,
   "metadata": {},
   "outputs": [
    {
     "data": {
      "text/plain": [
       "<matplotlib.axes._subplots.AxesSubplot at 0x2069ecd70f0>"
      ]
     },
     "execution_count": 631,
     "metadata": {},
     "output_type": "execute_result"
    },
    {
     "data": {
      "image/png": "[encoded data removed]",
      "text/plain": [
       "<Figure size 936x360 with 1 Axes>"
      ]
     },
     "metadata": {
      "needs_background": "light"
     },
     "output_type": "display_data"
    }
   ],
   "source": [
    "df['Category Name'].value_counts().nsmallest(10).sort_values(ascending=False).plot.bar(title = \n",
    "                                                     'Least 10 products sold', figsize = (13,5),color = 'blue')"
   ]
  },
  {
   "cell_type": "raw",
   "metadata": {},
   "source": [
    "We also see that few products are generating loss. Let us find out these products"
   ]
  },
  {
   "cell_type": "code",
   "execution_count": 632,
   "metadata": {},
   "outputs": [],
   "source": [
    "data = df[(df['Benefit per order']< 0)] # filtering data with transactions having loss"
   ]
  },
  {
   "cell_type": "code",
   "execution_count": 633,
   "metadata": {},
   "outputs": [],
   "source": [
    "groups = data.groupby('Category Name')"
   ]
  },
  {
   "cell_type": "code",
   "execution_count": 634,
   "metadata": {},
   "outputs": [
    {
     "data": {
      "text/plain": [
       "<matplotlib.axes._subplots.AxesSubplot at 0x2069ebaaba8>"
      ]
     },
     "execution_count": 634,
     "metadata": {},
     "output_type": "execute_result"
    },
    {
     "data": {
      "image/png": "[encoded data removed]",
      "text/plain": [
       "<Figure size 720x360 with 1 Axes>"
      ]
     },
     "metadata": {
      "needs_background": "light"
     },
     "output_type": "display_data"
    }
   ],
   "source": [
    "groups['Benefit per order'].sum().sort_values(ascending = True).nsmallest(10).plot.barh(title = \n",
    "                                                     'Top 10 products contributing Loss', figsize = (10,5))"
   ]
  },
  {
   "cell_type": "raw",
   "metadata": {},
   "source": [
    "Surprisingly, Water sports category is at the top contributing the loss while it is also the category with the most sales."
   ]
  },
  {
   "cell_type": "code",
   "execution_count": 635,
   "metadata": {},
   "outputs": [
    {
     "data": {
      "text/plain": [
       "<matplotlib.axes._subplots.AxesSubplot at 0x2069ec177b8>"
      ]
     },
     "execution_count": 635,
     "metadata": {},
     "output_type": "execute_result"
    },
    {
     "data": {
      "image/png": "[encoded data removed]",
      "text/plain": [
       "<Figure size 1440x576 with 1 Axes>"
      ]
     },
     "metadata": {
      "needs_background": "light"
     },
     "output_type": "display_data"
    }
   ],
   "source": [
    "# which regions have the most loss\n",
    "data['Order Region'].value_counts().nlargest(8).plot.bar(figsize=(20,8), title=\"Regions with most loss\")"
   ]
  },
  {
   "cell_type": "raw",
   "metadata": {},
   "source": [
    "Insights: From product delivery KPI analysis, we got an isight on the regions with the most late delivery namely Europe,America,Asia etc. From above graph, we can conclude that these lossess are due to late delivery of the products in these regions. Hence, the company should find a better way of transportation to deliver products to these regions."
   ]
  },
  {
   "cell_type": "code",
   "execution_count": 636,
   "metadata": {},
   "outputs": [
    {
     "data": {
      "text/plain": [
       "COMPLETE           41477\n",
       "PENDING_PAYMENT    23800\n",
       "CLOSED             13170\n",
       "PROCESSING          8424\n",
       "PENDING             7495\n",
       "ON_HOLD             6764\n",
       "SUSPECTED_FRAUD     1470\n",
       "CANCELED            1388\n",
       "PAYMENT_REVIEW      1125\n",
       "Name: Order Status, dtype: int64"
      ]
     },
     "execution_count": 636,
     "metadata": {},
     "output_type": "execute_result"
    }
   ],
   "source": [
    "# However, we also have fraud transactions in the data that might have cause losses. Let's explore those transactions.\n",
    "df['Order Status'].value_counts()"
   ]
  },
  {
   "cell_type": "raw",
   "metadata": {},
   "source": [
    "Out of 100k, 1470 were fraud transactions"
   ]
  },
  {
   "cell_type": "code",
   "execution_count": 637,
   "metadata": {},
   "outputs": [],
   "source": [
    "fraudData = df[df['Order Status'] == 'SUSPECTED_FRAUD']"
   ]
  },
  {
   "cell_type": "code",
   "execution_count": 638,
   "metadata": {},
   "outputs": [
    {
     "data": {
      "text/plain": [
       "<matplotlib.axes._subplots.AxesSubplot at 0x2069ec7df60>"
      ]
     },
     "execution_count": 638,
     "metadata": {},
     "output_type": "execute_result"
    },
    {
     "data": {
      "image/png": "[encoded data removed]",
      "text/plain": [
       "<Figure size 720x360 with 1 Axes>"
      ]
     },
     "metadata": {
      "needs_background": "light"
     },
     "output_type": "display_data"
    }
   ],
   "source": [
    "# top 5 regions with fraud transaction\n",
    "fraudData['Order Region'].value_counts().nlargest(5).plot.barh(title= 'Regions with highest fraud transactions',figsize = (10,5))"
   ]
  },
  {
   "cell_type": "code",
   "execution_count": 639,
   "metadata": {},
   "outputs": [
    {
     "data": {
      "text/plain": [
       "<matplotlib.axes._subplots.AxesSubplot at 0x2069ed49e80>"
      ]
     },
     "execution_count": 639,
     "metadata": {},
     "output_type": "execute_result"
    },
    {
     "data": {
      "image/png": "[encoded data removed]",
      "text/plain": [
       "<Figure size 720x360 with 1 Axes>"
      ]
     },
     "metadata": {
      "needs_background": "light"
     },
     "output_type": "display_data"
    }
   ],
   "source": [
    "# customers with freaud tranctions\n",
    "fraudData['Customer Id'].value_counts().nlargest(10).sort_values(ascending = False).plot.bar(title= \n",
    "                            'Top fraud customers',figsize = (10,5), color = 'blue')"
   ]
  },
  {
   "cell_type": "code",
   "execution_count": 640,
   "metadata": {},
   "outputs": [
    {
     "data": {
      "text/plain": [
       "TRANSFER    1470\n",
       "Name: Type, dtype: int64"
      ]
     },
     "execution_count": 640,
     "metadata": {},
     "output_type": "execute_result"
    }
   ],
   "source": [
    "fraudData['Type'].value_counts()"
   ]
  },
  {
   "cell_type": "raw",
   "metadata": {},
   "source": [
    "Insights: The regions with the high no. of fraud transactions are Western Europe, Central & south America. Also, all these fraud transactions are made by Transfer, which means transfer is the least safe mode of transaction."
   ]
  },
  {
   "cell_type": "markdown",
   "metadata": {},
   "source": [
    "# Correlation Matrix"
   ]
  },
  {
   "cell_type": "code",
   "execution_count": 641,
   "metadata": {},
   "outputs": [
    {
     "data": {
      "text/plain": [
       "<matplotlib.axes._subplots.AxesSubplot at 0x2069edc7198>"
      ]
     },
     "execution_count": 641,
     "metadata": {},
     "output_type": "execute_result"
    },
    {
     "data": {
      "image/png": "[encoded data removed]",
      "text/plain": [
       "<Figure size 2520x1080 with 2 Axes>"
      ]
     },
     "metadata": {
      "needs_background": "light"
     },
     "output_type": "display_data"
    }
   ],
   "source": [
    "import seaborn as sns\n",
    "fig, ax = plt.subplots(figsize=(35,15)) \n",
    "\n",
    "sns.heatmap(df.corr(),annot=True,linewidths=.4,fmt='.1g',cmap= \"coolwarm\",annot_kws={\"size\":20})"
   ]
  },
  {
   "cell_type": "raw",
   "metadata": {},
   "source": [
    "From this correlation matrix we conclude that:\n",
    "1.[Benefit per order] and Order Profit per order are highly correlated.\n",
    "2.Sales, Order Item Total and 'Sales per customer' are highly correlated\n",
    "3. Product price and order item product price are highly correlated hence to avoid multicollinearaity we will drop 'order item product price' column.\n",
    "4.Additionally, [Category ID], Product Category ID, Order Customer ID, Order Item Cardpro ID, Product card ID are all highly correlated (correlation fact = 1) hence we will also drop these columns."
   ]
  },
  {
   "cell_type": "code",
   "execution_count": 642,
   "metadata": {},
   "outputs": [],
   "source": [
    "df.drop(columns= ['Product Category Id', 'Order Customer Id', 'Order Item Cardprod Id', \n",
    "        'Product Card Id','Order Profit Per Order','Order Item Total',\n",
    "     'Order Item Product Price','order date (DateOrders)','month_year','Days for shipping (real)','Days for shipment (scheduled)'],inplace = True,axis =1)"
   ]
  },
  {
   "cell_type": "code",
   "execution_count": 643,
   "metadata": {},
   "outputs": [],
   "source": [
    "# creating columns with late delivery status and fraud transaction\n",
    "\n",
    "df['fraud'] = np.where(df['Order Status'] == 'SUSPECTED_FRAUD', 1, 0)\n",
    "\n",
    "df['late_delivery'] = np.where(df['Delivery Status'] == 'Late delivery', 1, 0)"
   ]
  },
  {
   "cell_type": "code",
   "execution_count": 644,
   "metadata": {},
   "outputs": [],
   "source": [
    "# dropping unneccessary columns\n",
    "df.drop(columns = ['Delivery Status','Late_delivery_risk','Order Status'],axis = 1,inplace = True)"
   ]
  },
  {
   "cell_type": "code",
   "execution_count": 645,
   "metadata": {},
   "outputs": [
    {
     "name": "stdout",
     "output_type": "stream",
     "text": [
      "<class 'pandas.core.frame.DataFrame'>\n",
      "Int64Index: 105113 entries, 0 to 105120\n",
      "Data columns (total 29 columns):\n",
      "Type                        105113 non-null object\n",
      "Benefit per order           105113 non-null float64\n",
      "Sales per customer          105113 non-null float64\n",
      "Category Id                 105113 non-null int64\n",
      "Category Name               105113 non-null object\n",
      "Customer City               105113 non-null object\n",
      "Customer Country            105113 non-null object\n",
      "Customer Id                 105113 non-null int64\n",
      "Customer Segment            105113 non-null object\n",
      "Customer State              105113 non-null object\n",
      "Department Id               105113 non-null int64\n",
      "Department Name             105113 non-null object\n",
      "Market                      105113 non-null object\n",
      "Order City                  105113 non-null object\n",
      "Order Country               105113 non-null object\n",
      "Order Id                    105113 non-null int64\n",
      "Order Item Discount         105113 non-null float64\n",
      "Order Item Discount Rate    105113 non-null float64\n",
      "Order Item Id               105113 non-null int64\n",
      "Order Item Profit Ratio     105113 non-null float64\n",
      "Order Item Quantity         105113 non-null int64\n",
      "Sales                       105113 non-null float64\n",
      "Order Region                105113 non-null object\n",
      "Order State                 105113 non-null object\n",
      "Product Name                105113 non-null object\n",
      "Product Price               105113 non-null float64\n",
      "Shipping Mode               105113 non-null object\n",
      "fraud                       105113 non-null int32\n",
      "late_delivery               105113 non-null int32\n",
      "dtypes: float64(7), int32(2), int64(6), object(14)\n",
      "memory usage: 23.3+ MB\n"
     ]
    }
   ],
   "source": [
    "df.info()"
   ]
  },
  {
   "cell_type": "markdown",
   "metadata": {},
   "source": [
    "# Label Encoding"
   ]
  },
  {
   "cell_type": "code",
   "execution_count": 646,
   "metadata": {},
   "outputs": [],
   "source": [
    "# Label Encoding\n",
    "from sklearn import preprocessing\n",
    "le = preprocessing.LabelEncoder()\n",
    "\n",
    "# we need to label encode categorical variables\n",
    "\n",
    "df['Customer Country']  = le.fit_transform(df['Customer Country'])\n",
    "df['Market']            = le.fit_transform(df['Market'])\n",
    "df['Type']              = le.fit_transform(df['Type'])\n",
    "df['Product Name']      = le.fit_transform(df['Product Name'])\n",
    "df['Customer Segment']  = le.fit_transform(df['Customer Segment'])\n",
    "df['Customer State']    = le.fit_transform(df['Customer State'])\n",
    "df['Order Region']      = le.fit_transform(df['Order Region'])\n",
    "df['Order City']        = le.fit_transform(df['Order City'])\n",
    "df['Category Name']     = le.fit_transform(df['Category Name'])\n",
    "df['Customer City']     = le.fit_transform(df['Customer City'])\n",
    "df['Department Name']   = le.fit_transform(df['Department Name'])\n",
    "df['Order State']       = le.fit_transform(df['Order State'])\n",
    "df['Shipping Mode']     = le.fit_transform(df['Shipping Mode'])\n",
    "df['Order Country']     = le.fit_transform(df['Order Country'])\n",
    "\n"
   ]
  },
  {
   "cell_type": "markdown",
   "metadata": {},
   "source": [
    "# Data Modelling"
   ]
  },
  {
   "cell_type": "code",
   "execution_count": 647,
   "metadata": {},
   "outputs": [],
   "source": [
    "#train-test split\n",
    "x = df.loc[:, df.columns != 'Sales']\n",
    "y = df['Sales']\n",
    "from sklearn.model_selection import train_test_split\n"
   ]
  },
  {
   "cell_type": "code",
   "execution_count": 648,
   "metadata": {},
   "outputs": [],
   "source": [
    "x_train,x_test,y_train,y_test = train_test_split(x,y,test_size = 0.3,random_state= 11)"
   ]
  },
  {
   "cell_type": "code",
   "execution_count": 649,
   "metadata": {},
   "outputs": [
    {
     "data": {
      "text/plain": [
       "(73579, 28)"
      ]
     },
     "execution_count": 649,
     "metadata": {},
     "output_type": "execute_result"
    }
   ],
   "source": [
    "x_train.shape"
   ]
  },
  {
   "cell_type": "code",
   "execution_count": 650,
   "metadata": {},
   "outputs": [
    {
     "data": {
      "text/plain": [
       "(31534, 28)"
      ]
     },
     "execution_count": 650,
     "metadata": {},
     "output_type": "execute_result"
    }
   ],
   "source": [
    "x_test.shape"
   ]
  },
  {
   "cell_type": "code",
   "execution_count": 651,
   "metadata": {},
   "outputs": [],
   "source": [
    "# Scaling for regression models\n",
    "from sklearn.preprocessing import MinMaxScaler"
   ]
  },
  {
   "cell_type": "code",
   "execution_count": 652,
   "metadata": {},
   "outputs": [],
   "source": [
    "scaler = MinMaxScaler()\n",
    "\n",
    "x_train = scaler.fit_transform(x_train)\n",
    "x_test = scaler.transform(x_test)"
   ]
  },
  {
   "cell_type": "markdown",
   "metadata": {},
   "source": [
    "# Linear Regression"
   ]
  },
  {
   "cell_type": "code",
   "execution_count": 653,
   "metadata": {},
   "outputs": [],
   "source": [
    "from sklearn.linear_model import LinearRegression\n",
    "model = LinearRegression()"
   ]
  },
  {
   "cell_type": "code",
   "execution_count": 654,
   "metadata": {},
   "outputs": [
    {
     "data": {
      "text/plain": [
       "LinearRegression(copy_X=True, fit_intercept=True, n_jobs=None, normalize=False)"
      ]
     },
     "execution_count": 654,
     "metadata": {},
     "output_type": "execute_result"
    }
   ],
   "source": [
    "model.fit(x_train,y_train)"
   ]
  },
  {
   "cell_type": "code",
   "execution_count": 655,
   "metadata": {},
   "outputs": [],
   "source": [
    "y_predict = model.predict(x_test)"
   ]
  },
  {
   "cell_type": "code",
   "execution_count": 656,
   "metadata": {},
   "outputs": [
    {
     "data": {
      "text/plain": [
       "0.9999999998863325"
      ]
     },
     "execution_count": 656,
     "metadata": {},
     "output_type": "execute_result"
    }
   ],
   "source": [
    "from sklearn.metrics import r2_score,mean_squared_error,mean_absolute_error\n",
    "r2_score(y_test,y_predict)"
   ]
  },
  {
   "cell_type": "code",
   "execution_count": 657,
   "metadata": {},
   "outputs": [
    {
     "data": {
      "text/plain": [
       "1.887027102914115e-06"
      ]
     },
     "execution_count": 657,
     "metadata": {},
     "output_type": "execute_result"
    }
   ],
   "source": [
    "mean_squared_error(y_test,y_predict)"
   ]
  },
  {
   "cell_type": "code",
   "execution_count": 658,
   "metadata": {},
   "outputs": [
    {
     "data": {
      "text/plain": [
       "0.00048032262526858375"
      ]
     },
     "execution_count": 658,
     "metadata": {},
     "output_type": "execute_result"
    }
   ],
   "source": [
    "mean_absolute_error(y_test,y_predict)"
   ]
  },
  {
   "cell_type": "markdown",
   "metadata": {},
   "source": [
    "# Lasso Regression"
   ]
  },
  {
   "cell_type": "code",
   "execution_count": 659,
   "metadata": {},
   "outputs": [],
   "source": [
    "\n",
    "from sklearn.linear_model import Lasso\n",
    "model = Lasso(alpha = 0.1)"
   ]
  },
  {
   "cell_type": "code",
   "execution_count": 660,
   "metadata": {},
   "outputs": [
    {
     "data": {
      "text/plain": [
       "Lasso(alpha=0.1, copy_X=True, fit_intercept=True, max_iter=1000,\n",
       "      normalize=False, positive=False, precompute=False, random_state=None,\n",
       "      selection='cyclic', tol=0.0001, warm_start=False)"
      ]
     },
     "execution_count": 660,
     "metadata": {},
     "output_type": "execute_result"
    }
   ],
   "source": [
    "model.fit(x_train,y_train)"
   ]
  },
  {
   "cell_type": "code",
   "execution_count": 661,
   "metadata": {},
   "outputs": [],
   "source": [
    "y_predict = model.predict(x_test)"
   ]
  },
  {
   "cell_type": "code",
   "execution_count": 662,
   "metadata": {},
   "outputs": [
    {
     "data": {
      "text/plain": [
       "0.9994543343016431"
      ]
     },
     "execution_count": 662,
     "metadata": {},
     "output_type": "execute_result"
    }
   ],
   "source": [
    "from sklearn.metrics import r2_score,mean_squared_error,mean_absolute_error\n",
    "r2_score(y_test,y_predict)"
   ]
  },
  {
   "cell_type": "code",
   "execution_count": 663,
   "metadata": {},
   "outputs": [
    {
     "data": {
      "text/plain": [
       "9.058748535973281"
      ]
     },
     "execution_count": 663,
     "metadata": {},
     "output_type": "execute_result"
    }
   ],
   "source": [
    "mean_squared_error(y_test,y_predict)"
   ]
  },
  {
   "cell_type": "code",
   "execution_count": 664,
   "metadata": {},
   "outputs": [
    {
     "data": {
      "text/plain": [
       "1.6478562342191971"
      ]
     },
     "execution_count": 664,
     "metadata": {},
     "output_type": "execute_result"
    }
   ],
   "source": [
    "mean_absolute_error(y_test,y_predict)"
   ]
  },
  {
   "cell_type": "markdown",
   "metadata": {},
   "source": [
    "# Ridge Regression"
   ]
  },
  {
   "cell_type": "code",
   "execution_count": 665,
   "metadata": {},
   "outputs": [],
   "source": [
    "from sklearn.linear_model import Ridge\n",
    "model = Ridge(alpha = 0.1)"
   ]
  },
  {
   "cell_type": "code",
   "execution_count": 666,
   "metadata": {},
   "outputs": [],
   "source": [
    "model.fit(x_train,y_train)\n",
    "y_predict = model.predict(x_test)"
   ]
  },
  {
   "cell_type": "code",
   "execution_count": 667,
   "metadata": {},
   "outputs": [],
   "source": [
    "r_squared = r2_score(y_test,y_predict)"
   ]
  },
  {
   "cell_type": "code",
   "execution_count": 668,
   "metadata": {},
   "outputs": [
    {
     "data": {
      "text/plain": [
       "0.9999985125280667"
      ]
     },
     "execution_count": 668,
     "metadata": {},
     "output_type": "execute_result"
    }
   ],
   "source": [
    "r_squared"
   ]
  },
  {
   "cell_type": "code",
   "execution_count": 669,
   "metadata": {},
   "outputs": [
    {
     "data": {
      "text/plain": [
       "0.02469393666901282"
      ]
     },
     "execution_count": 669,
     "metadata": {},
     "output_type": "execute_result"
    }
   ],
   "source": [
    "mean_squared_error(y_test,y_predict)"
   ]
  },
  {
   "cell_type": "code",
   "execution_count": 670,
   "metadata": {},
   "outputs": [
    {
     "data": {
      "text/plain": [
       "0.0898655405430673"
      ]
     },
     "execution_count": 670,
     "metadata": {},
     "output_type": "execute_result"
    }
   ],
   "source": [
    "mean_absolute_error(y_test,y_predict)"
   ]
  },
  {
   "cell_type": "markdown",
   "metadata": {},
   "source": [
    "# DecisionTree Regressor"
   ]
  },
  {
   "cell_type": "code",
   "execution_count": 671,
   "metadata": {},
   "outputs": [],
   "source": [
    "# Decision Tree Regressor\n",
    "from sklearn.tree import DecisionTreeRegressor\n",
    "model = DecisionTreeRegressor()\n",
    "model.fit(x_train,y_train)\n",
    "y_predict = model.predict(x_test)"
   ]
  },
  {
   "cell_type": "code",
   "execution_count": 672,
   "metadata": {},
   "outputs": [
    {
     "data": {
      "text/plain": [
       "0.9999490689652866"
      ]
     },
     "execution_count": 672,
     "metadata": {},
     "output_type": "execute_result"
    }
   ],
   "source": [
    "r2_score(y_test,y_predict)"
   ]
  },
  {
   "cell_type": "code",
   "execution_count": 673,
   "metadata": {},
   "outputs": [
    {
     "data": {
      "text/plain": [
       "0.025043447756706517"
      ]
     },
     "execution_count": 673,
     "metadata": {},
     "output_type": "execute_result"
    }
   ],
   "source": [
    "mean_absolute_error(y_test,y_predict)"
   ]
  },
  {
   "cell_type": "code",
   "execution_count": 674,
   "metadata": {},
   "outputs": [
    {
     "data": {
      "text/plain": [
       "0.8455203204727846"
      ]
     },
     "execution_count": 674,
     "metadata": {},
     "output_type": "execute_result"
    }
   ],
   "source": [
    "mean_squared_error(y_test,y_predict)"
   ]
  },
  {
   "cell_type": "markdown",
   "metadata": {},
   "source": [
    "# Random Forest regressor"
   ]
  },
  {
   "cell_type": "code",
   "execution_count": 675,
   "metadata": {},
   "outputs": [],
   "source": [
    "\n",
    "from sklearn.ensemble import RandomForestRegressor\n",
    "model =  RandomForestRegressor(n_estimators = 100,max_depth = 10, random_state = 50)\n",
    "model.fit(x_train,y_train)\n",
    "y_predict = model.predict(x_test)"
   ]
  },
  {
   "cell_type": "code",
   "execution_count": 676,
   "metadata": {},
   "outputs": [
    {
     "data": {
      "text/plain": [
       "0.9998177190304178"
      ]
     },
     "execution_count": 676,
     "metadata": {},
     "output_type": "execute_result"
    }
   ],
   "source": [
    "r2_score(y_test,y_predict)"
   ]
  },
  {
   "cell_type": "code",
   "execution_count": 677,
   "metadata": {},
   "outputs": [
    {
     "data": {
      "text/plain": [
       "0.24522672976548954"
      ]
     },
     "execution_count": 677,
     "metadata": {},
     "output_type": "execute_result"
    }
   ],
   "source": [
    "mean_absolute_error(y_test,y_predict)"
   ]
  },
  {
   "cell_type": "code",
   "execution_count": 678,
   "metadata": {},
   "outputs": [
    {
     "data": {
      "text/plain": [
       "3.0260972447231227"
      ]
     },
     "execution_count": 678,
     "metadata": {},
     "output_type": "execute_result"
    }
   ],
   "source": [
    "mean_squared_error(y_test,y_predict)"
   ]
  },
  {
   "cell_type": "markdown",
   "metadata": {},
   "source": [
    "# Model Evaluation"
   ]
  },
  {
   "cell_type": "raw",
   "metadata": {},
   "source": [
    "Now that we tried different regressors, let us select the best one with the help of model evaluation parameters(r_squared,RMSE,MAE)"
   ]
  },
  {
   "cell_type": "code",
   "execution_count": 679,
   "metadata": {},
   "outputs": [],
   "source": [
    "ModelEval = { 'Regressor' : ['Linear','Lasso','Ridge','DecisionTree','RandomForest'],\n",
    "            'R_squared':[0.9999,0.9999,0.9999,0.9999,0.9981],\n",
    "            'RMSE' : [1.8870,9.0587,0.02469,0.8852,3.0260],\n",
    "            'MAE' : [0.0004,1.6478,0.0898,0.0217,0.2452]}"
   ]
  },
  {
   "cell_type": "code",
   "execution_count": 680,
   "metadata": {},
   "outputs": [],
   "source": [
    "evaluation_matrix = pd.DataFrame(ModelEval,columns = ['Regressor','R_squared','RMSE','MAE'])"
   ]
  },
  {
   "cell_type": "code",
   "execution_count": 681,
   "metadata": {},
   "outputs": [
    {
     "data": {
      "text/html": [
       "<div>\n",
       "<style scoped>\n",
       "    .dataframe tbody tr th:only-of-type {\n",
       "        vertical-align: middle;\n",
       "    }\n",
       "\n",
       "    .dataframe tbody tr th {\n",
       "        vertical-align: top;\n",
       "    }\n",
       "\n",
       "    .dataframe thead th {\n",
       "        text-align: right;\n",
       "    }\n",
       "</style>\n",
       "<table border=\"1\" class=\"dataframe\">\n",
       "  <thead>\n",
       "    <tr style=\"text-align: right;\">\n",
       "      <th></th>\n",
       "      <th>Regressor</th>\n",
       "      <th>R_squared</th>\n",
       "      <th>RMSE</th>\n",
       "      <th>MAE</th>\n",
       "    </tr>\n",
       "  </thead>\n",
       "  <tbody>\n",
       "    <tr>\n",
       "      <th>0</th>\n",
       "      <td>Linear</td>\n",
       "      <td>0.9999</td>\n",
       "      <td>1.88700</td>\n",
       "      <td>0.0004</td>\n",
       "    </tr>\n",
       "    <tr>\n",
       "      <th>1</th>\n",
       "      <td>Lasso</td>\n",
       "      <td>0.9999</td>\n",
       "      <td>9.05870</td>\n",
       "      <td>1.6478</td>\n",
       "    </tr>\n",
       "    <tr>\n",
       "      <th>2</th>\n",
       "      <td>Ridge</td>\n",
       "      <td>0.9999</td>\n",
       "      <td>0.02469</td>\n",
       "      <td>0.0898</td>\n",
       "    </tr>\n",
       "    <tr>\n",
       "      <th>3</th>\n",
       "      <td>DecisionTree</td>\n",
       "      <td>0.9999</td>\n",
       "      <td>0.88520</td>\n",
       "      <td>0.0217</td>\n",
       "    </tr>\n",
       "    <tr>\n",
       "      <th>4</th>\n",
       "      <td>RandomForest</td>\n",
       "      <td>0.9981</td>\n",
       "      <td>3.02600</td>\n",
       "      <td>0.2452</td>\n",
       "    </tr>\n",
       "  </tbody>\n",
       "</table>\n",
       "</div>"
      ],
      "text/plain": [
       "      Regressor  R_squared     RMSE     MAE\n",
       "0        Linear     0.9999  1.88700  0.0004\n",
       "1         Lasso     0.9999  9.05870  1.6478\n",
       "2         Ridge     0.9999  0.02469  0.0898\n",
       "3  DecisionTree     0.9999  0.88520  0.0217\n",
       "4  RandomForest     0.9981  3.02600  0.2452"
      ]
     },
     "execution_count": 681,
     "metadata": {},
     "output_type": "execute_result"
    }
   ],
   "source": [
    "evaluation_matrix"
   ]
  },
  {
   "cell_type": "raw",
   "metadata": {},
   "source": [
    "Conclusion : from above matrix, we see that Ridge regressor works best for our data as it gives low RMSE & MAE and high r_squared value"
   ]
  },
  {
   "cell_type": "markdown",
   "metadata": {},
   "source": [
    "# Late Delivery Detection"
   ]
  },
  {
   "cell_type": "raw",
   "metadata": {},
   "source": [
    "We will use classification models in order to detect the late delivery"
   ]
  },
  {
   "cell_type": "code",
   "execution_count": 682,
   "metadata": {},
   "outputs": [],
   "source": [
    "x = df.loc[:, df.columns != 'late_delivery']\n",
    "y = df['late_delivery']\n",
    "from sklearn.model_selection import train_test_split\n",
    "x_train,x_test,y_train,y_test = train_test_split(x,y,test_size = 0.2,random_state= 11)"
   ]
  },
  {
   "cell_type": "code",
   "execution_count": 683,
   "metadata": {},
   "outputs": [],
   "source": [
    "# Scaling \n",
    "from sklearn.preprocessing import StandardScaler\n",
    "scale = StandardScaler()\n",
    "x_train = scale.fit_transform(x_train)\n",
    "x_test = scale.transform(x_test)"
   ]
  },
  {
   "cell_type": "code",
   "execution_count": 684,
   "metadata": {},
   "outputs": [],
   "source": [
    "from sklearn.tree import DecisionTreeClassifier\n",
    "model =  DecisionTreeClassifier()\n",
    "model.fit(x_train,y_train)\n",
    "y_predict =  model.predict(x_test)"
   ]
  },
  {
   "cell_type": "code",
   "execution_count": 685,
   "metadata": {},
   "outputs": [
    {
     "data": {
      "text/plain": [
       "0.8121105455929221"
      ]
     },
     "execution_count": 685,
     "metadata": {},
     "output_type": "execute_result"
    }
   ],
   "source": [
    "from sklearn.metrics import accuracy_score,confusion_matrix,classification_report\n",
    "accuracy_score(y_test,y_predict)"
   ]
  },
  {
   "cell_type": "code",
   "execution_count": 686,
   "metadata": {},
   "outputs": [
    {
     "data": {
      "text/plain": [
       "array([[ 7071,  1979],\n",
       "       [ 1971, 10002]], dtype=int64)"
      ]
     },
     "execution_count": 686,
     "metadata": {},
     "output_type": "execute_result"
    }
   ],
   "source": [
    "confusion_matrix(y_test,y_predict)"
   ]
  },
  {
   "cell_type": "code",
   "execution_count": 687,
   "metadata": {},
   "outputs": [
    {
     "name": "stdout",
     "output_type": "stream",
     "text": [
      "              precision    recall  f1-score   support\n",
      "\n",
      "           1       0.83      0.84      0.84     11973\n",
      "           2       0.00      0.00      0.00         0\n",
      "           3       0.00      0.00      0.00         0\n",
      "\n",
      "   micro avg       0.83      0.84      0.84     11973\n",
      "   macro avg       0.28      0.28      0.28     11973\n",
      "weighted avg       0.83      0.84      0.84     11973\n",
      "\n"
     ]
    }
   ],
   "source": [
    "print(classification_report(y_test, y_predict, labels=[1, 2, 3]))\n",
    "import warnings\n",
    "warnings.simplefilter(\"ignore\")"
   ]
  },
  {
   "cell_type": "code",
   "execution_count": 688,
   "metadata": {},
   "outputs": [],
   "source": [
    "from sklearn.ensemble import RandomForestClassifier\n",
    "model =  RandomForestClassifier(n_estimators = 100,max_depth = 10, random_state = 50)\n",
    "model.fit(x_train,y_train)\n",
    "y_predict =  model.predict(x_test)\n"
   ]
  },
  {
   "cell_type": "code",
   "execution_count": 689,
   "metadata": {},
   "outputs": [
    {
     "data": {
      "text/plain": [
       "0.7045141036008181"
      ]
     },
     "execution_count": 689,
     "metadata": {},
     "output_type": "execute_result"
    }
   ],
   "source": [
    "accuracy_score(y_test,y_predict)"
   ]
  },
  {
   "cell_type": "code",
   "execution_count": 690,
   "metadata": {},
   "outputs": [
    {
     "data": {
      "text/plain": [
       "array([[7556, 1494],\n",
       "       [4718, 7255]], dtype=int64)"
      ]
     },
     "execution_count": 690,
     "metadata": {},
     "output_type": "execute_result"
    }
   ],
   "source": [
    "confusion_matrix(y_test,y_predict)"
   ]
  },
  {
   "cell_type": "code",
   "execution_count": 691,
   "metadata": {},
   "outputs": [
    {
     "name": "stdout",
     "output_type": "stream",
     "text": [
      "              precision    recall  f1-score   support\n",
      "\n",
      "           1       0.83      0.61      0.70     11973\n",
      "           2       0.00      0.00      0.00         0\n",
      "           3       0.00      0.00      0.00         0\n",
      "\n",
      "   micro avg       0.83      0.61      0.70     11973\n",
      "   macro avg       0.28      0.20      0.23     11973\n",
      "weighted avg       0.83      0.61      0.70     11973\n",
      "\n"
     ]
    }
   ],
   "source": [
    "print(classification_report(y_test, y_predict, labels=[1, 2, 3]))"
   ]
  },
  {
   "cell_type": "code",
   "execution_count": 692,
   "metadata": {},
   "outputs": [
    {
     "name": "stdout",
     "output_type": "stream",
     "text": [
      "[18:33:01] WARNING: C:/Users/Administrator/workspace/xgboost-win64_release_1.3.0/src/learner.cc:1061: Starting in XGBoost 1.3.0, the default evaluation metric used with the objective 'binary:logistic' was changed from 'error' to 'logloss'. Explicitly set eval_metric if you'd like to restore the old behavior.\n"
     ]
    }
   ],
   "source": [
    "import xgboost as xgb\n",
    "model =  xgb.XGBClassifier()\n",
    "model.fit(x_train,y_train)\n",
    "y_predict =  model.predict(x_test)"
   ]
  },
  {
   "cell_type": "code",
   "execution_count": 693,
   "metadata": {},
   "outputs": [
    {
     "data": {
      "text/plain": [
       "0.7413784902249917"
      ]
     },
     "execution_count": 693,
     "metadata": {},
     "output_type": "execute_result"
    }
   ],
   "source": [
    "accuracy_score(y_test,y_predict)"
   ]
  },
  {
   "cell_type": "code",
   "execution_count": 694,
   "metadata": {},
   "outputs": [
    {
     "name": "stdout",
     "output_type": "stream",
     "text": [
      "              precision    recall  f1-score   support\n",
      "\n",
      "           1       0.84      0.67      0.75     11973\n",
      "           2       0.00      0.00      0.00         0\n",
      "           3       0.00      0.00      0.00         0\n",
      "\n",
      "   micro avg       0.84      0.67      0.75     11973\n",
      "   macro avg       0.28      0.22      0.25     11973\n",
      "weighted avg       0.84      0.67      0.75     11973\n",
      "\n"
     ]
    }
   ],
   "source": [
    "print(classification_report(y_test, y_predict, labels=[1, 2, 3]))"
   ]
  },
  {
   "cell_type": "raw",
   "metadata": {},
   "source": [
    "The Decision Tree classifier works best to detect the late delivery of the products with F1 score 0.77 and acuuracy with 0.81"
   ]
  }
 ],
 "metadata": {
  "kernelspec": {
   "display_name": "Python 3",
   "language": "python",
   "name": "python3"
  },
  "language_info": {
   "codemirror_mode": {
    "name": "ipython",
    "version": 3
   },
   "file_extension": ".py",
   "mimetype": "text/x-python",
   "name": "python",
   "nbconvert_exporter": "python",
   "pygments_lexer": "ipython3",
   "version": "3.7.0"
  }
 },
 "nbformat": 4,
 "nbformat_minor": 2
}
